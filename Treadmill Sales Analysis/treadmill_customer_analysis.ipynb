{
 "cells": [
  {
   "cell_type": "markdown",
   "id": "9e996408-0c6c-4e71-b033-5f409406132a",
   "metadata": {},
   "source": [
    "## Treadmill Customer Analysis"
   ]
  },
  {
   "cell_type": "markdown",
   "id": "90242e85-72fc-42b3-9b63-b0dcae488746",
   "metadata": {
    "jp-MarkdownHeadingCollapsed": true
   },
   "source": [
    "### Intro:\n",
    "\n",
    "Mock Dataset that imitates a survey completed by customers upon purchasing a treadmill.\n",
    "\n",
    "#### Features:\n",
    "\n",
    "Product - Model type\n",
    "\n",
    "Age - Customer age\\\n",
    "Income - Customer Salary\\\n",
    "Education - no. years in Education\\\n",
    "Gender - Customer Gender\\\n",
    "MartialStatus - Martial Status\n",
    "\n",
    "Fitness - Self Assessed fitness level\\\n",
    "Usage - no. times they expect to Use treadmil per week\\\n",
    "Miles - no. miles they expect to run per week\n",
    "\n",
    "\n",
    "#### Proposed analysis:\n",
    "Finding relationships between the model type and the other data - segmenting the market. Such that advertising can be directed in a particular fashion:\n"
   ]
  },
  {
   "cell_type": "markdown",
   "id": "0e09f8bd-ec86-4753-96b7-b6bf4d64f7a9",
   "metadata": {},
   "source": [
    "### 0) Setup"
   ]
  },
  {
   "cell_type": "code",
   "execution_count": 5,
   "id": "57ca4fcd-1eac-4786-9aff-d1f0a5370a1a",
   "metadata": {},
   "outputs": [],
   "source": [
    "import pandas as pd\n",
    "import numpy as np\n",
    "import scipy.stats as ss\n",
    "from sklearn.preprocessing import MinMaxScaler\n",
    "\n",
    "import seaborn as sns\n",
    "import matplotlib.pyplot as plt\n",
    "import plotly.graph_objects as go"
   ]
  },
  {
   "cell_type": "code",
   "execution_count": 6,
   "id": "f6508176-fa6a-46df-b215-7c70925f6c94",
   "metadata": {},
   "outputs": [
    {
     "ename": "FileNotFoundError",
     "evalue": "[Errno 2] No such file or directory: 'CardioGoodFitness.csv'",
     "output_type": "error",
     "traceback": [
      "\u001b[1;31m---------------------------------------------------------------------------\u001b[0m",
      "\u001b[1;31mFileNotFoundError\u001b[0m                         Traceback (most recent call last)",
      "Cell \u001b[1;32mIn[6], line 1\u001b[0m\n\u001b[1;32m----> 1\u001b[0m df \u001b[38;5;241m=\u001b[39m \u001b[43mpd\u001b[49m\u001b[38;5;241;43m.\u001b[39;49m\u001b[43mread_csv\u001b[49m\u001b[43m(\u001b[49m\u001b[38;5;124;43m'\u001b[39;49m\u001b[38;5;124;43mCardioGoodFitness.csv\u001b[39;49m\u001b[38;5;124;43m'\u001b[39;49m\u001b[43m)\u001b[49m\n",
      "File \u001b[1;32m~\\AppData\\Local\\Programs\\Python\\Python312\\Lib\\site-packages\\pandas\\io\\parsers\\readers.py:1026\u001b[0m, in \u001b[0;36mread_csv\u001b[1;34m(filepath_or_buffer, sep, delimiter, header, names, index_col, usecols, dtype, engine, converters, true_values, false_values, skipinitialspace, skiprows, skipfooter, nrows, na_values, keep_default_na, na_filter, verbose, skip_blank_lines, parse_dates, infer_datetime_format, keep_date_col, date_parser, date_format, dayfirst, cache_dates, iterator, chunksize, compression, thousands, decimal, lineterminator, quotechar, quoting, doublequote, escapechar, comment, encoding, encoding_errors, dialect, on_bad_lines, delim_whitespace, low_memory, memory_map, float_precision, storage_options, dtype_backend)\u001b[0m\n\u001b[0;32m   1013\u001b[0m kwds_defaults \u001b[38;5;241m=\u001b[39m _refine_defaults_read(\n\u001b[0;32m   1014\u001b[0m     dialect,\n\u001b[0;32m   1015\u001b[0m     delimiter,\n\u001b[1;32m   (...)\u001b[0m\n\u001b[0;32m   1022\u001b[0m     dtype_backend\u001b[38;5;241m=\u001b[39mdtype_backend,\n\u001b[0;32m   1023\u001b[0m )\n\u001b[0;32m   1024\u001b[0m kwds\u001b[38;5;241m.\u001b[39mupdate(kwds_defaults)\n\u001b[1;32m-> 1026\u001b[0m \u001b[38;5;28;01mreturn\u001b[39;00m \u001b[43m_read\u001b[49m\u001b[43m(\u001b[49m\u001b[43mfilepath_or_buffer\u001b[49m\u001b[43m,\u001b[49m\u001b[43m \u001b[49m\u001b[43mkwds\u001b[49m\u001b[43m)\u001b[49m\n",
      "File \u001b[1;32m~\\AppData\\Local\\Programs\\Python\\Python312\\Lib\\site-packages\\pandas\\io\\parsers\\readers.py:620\u001b[0m, in \u001b[0;36m_read\u001b[1;34m(filepath_or_buffer, kwds)\u001b[0m\n\u001b[0;32m    617\u001b[0m _validate_names(kwds\u001b[38;5;241m.\u001b[39mget(\u001b[38;5;124m\"\u001b[39m\u001b[38;5;124mnames\u001b[39m\u001b[38;5;124m\"\u001b[39m, \u001b[38;5;28;01mNone\u001b[39;00m))\n\u001b[0;32m    619\u001b[0m \u001b[38;5;66;03m# Create the parser.\u001b[39;00m\n\u001b[1;32m--> 620\u001b[0m parser \u001b[38;5;241m=\u001b[39m \u001b[43mTextFileReader\u001b[49m\u001b[43m(\u001b[49m\u001b[43mfilepath_or_buffer\u001b[49m\u001b[43m,\u001b[49m\u001b[43m \u001b[49m\u001b[38;5;241;43m*\u001b[39;49m\u001b[38;5;241;43m*\u001b[39;49m\u001b[43mkwds\u001b[49m\u001b[43m)\u001b[49m\n\u001b[0;32m    622\u001b[0m \u001b[38;5;28;01mif\u001b[39;00m chunksize \u001b[38;5;129;01mor\u001b[39;00m iterator:\n\u001b[0;32m    623\u001b[0m     \u001b[38;5;28;01mreturn\u001b[39;00m parser\n",
      "File \u001b[1;32m~\\AppData\\Local\\Programs\\Python\\Python312\\Lib\\site-packages\\pandas\\io\\parsers\\readers.py:1620\u001b[0m, in \u001b[0;36mTextFileReader.__init__\u001b[1;34m(self, f, engine, **kwds)\u001b[0m\n\u001b[0;32m   1617\u001b[0m     \u001b[38;5;28mself\u001b[39m\u001b[38;5;241m.\u001b[39moptions[\u001b[38;5;124m\"\u001b[39m\u001b[38;5;124mhas_index_names\u001b[39m\u001b[38;5;124m\"\u001b[39m] \u001b[38;5;241m=\u001b[39m kwds[\u001b[38;5;124m\"\u001b[39m\u001b[38;5;124mhas_index_names\u001b[39m\u001b[38;5;124m\"\u001b[39m]\n\u001b[0;32m   1619\u001b[0m \u001b[38;5;28mself\u001b[39m\u001b[38;5;241m.\u001b[39mhandles: IOHandles \u001b[38;5;241m|\u001b[39m \u001b[38;5;28;01mNone\u001b[39;00m \u001b[38;5;241m=\u001b[39m \u001b[38;5;28;01mNone\u001b[39;00m\n\u001b[1;32m-> 1620\u001b[0m \u001b[38;5;28mself\u001b[39m\u001b[38;5;241m.\u001b[39m_engine \u001b[38;5;241m=\u001b[39m \u001b[38;5;28;43mself\u001b[39;49m\u001b[38;5;241;43m.\u001b[39;49m\u001b[43m_make_engine\u001b[49m\u001b[43m(\u001b[49m\u001b[43mf\u001b[49m\u001b[43m,\u001b[49m\u001b[43m \u001b[49m\u001b[38;5;28;43mself\u001b[39;49m\u001b[38;5;241;43m.\u001b[39;49m\u001b[43mengine\u001b[49m\u001b[43m)\u001b[49m\n",
      "File \u001b[1;32m~\\AppData\\Local\\Programs\\Python\\Python312\\Lib\\site-packages\\pandas\\io\\parsers\\readers.py:1880\u001b[0m, in \u001b[0;36mTextFileReader._make_engine\u001b[1;34m(self, f, engine)\u001b[0m\n\u001b[0;32m   1878\u001b[0m     \u001b[38;5;28;01mif\u001b[39;00m \u001b[38;5;124m\"\u001b[39m\u001b[38;5;124mb\u001b[39m\u001b[38;5;124m\"\u001b[39m \u001b[38;5;129;01mnot\u001b[39;00m \u001b[38;5;129;01min\u001b[39;00m mode:\n\u001b[0;32m   1879\u001b[0m         mode \u001b[38;5;241m+\u001b[39m\u001b[38;5;241m=\u001b[39m \u001b[38;5;124m\"\u001b[39m\u001b[38;5;124mb\u001b[39m\u001b[38;5;124m\"\u001b[39m\n\u001b[1;32m-> 1880\u001b[0m \u001b[38;5;28mself\u001b[39m\u001b[38;5;241m.\u001b[39mhandles \u001b[38;5;241m=\u001b[39m \u001b[43mget_handle\u001b[49m\u001b[43m(\u001b[49m\n\u001b[0;32m   1881\u001b[0m \u001b[43m    \u001b[49m\u001b[43mf\u001b[49m\u001b[43m,\u001b[49m\n\u001b[0;32m   1882\u001b[0m \u001b[43m    \u001b[49m\u001b[43mmode\u001b[49m\u001b[43m,\u001b[49m\n\u001b[0;32m   1883\u001b[0m \u001b[43m    \u001b[49m\u001b[43mencoding\u001b[49m\u001b[38;5;241;43m=\u001b[39;49m\u001b[38;5;28;43mself\u001b[39;49m\u001b[38;5;241;43m.\u001b[39;49m\u001b[43moptions\u001b[49m\u001b[38;5;241;43m.\u001b[39;49m\u001b[43mget\u001b[49m\u001b[43m(\u001b[49m\u001b[38;5;124;43m\"\u001b[39;49m\u001b[38;5;124;43mencoding\u001b[39;49m\u001b[38;5;124;43m\"\u001b[39;49m\u001b[43m,\u001b[49m\u001b[43m \u001b[49m\u001b[38;5;28;43;01mNone\u001b[39;49;00m\u001b[43m)\u001b[49m\u001b[43m,\u001b[49m\n\u001b[0;32m   1884\u001b[0m \u001b[43m    \u001b[49m\u001b[43mcompression\u001b[49m\u001b[38;5;241;43m=\u001b[39;49m\u001b[38;5;28;43mself\u001b[39;49m\u001b[38;5;241;43m.\u001b[39;49m\u001b[43moptions\u001b[49m\u001b[38;5;241;43m.\u001b[39;49m\u001b[43mget\u001b[49m\u001b[43m(\u001b[49m\u001b[38;5;124;43m\"\u001b[39;49m\u001b[38;5;124;43mcompression\u001b[39;49m\u001b[38;5;124;43m\"\u001b[39;49m\u001b[43m,\u001b[49m\u001b[43m \u001b[49m\u001b[38;5;28;43;01mNone\u001b[39;49;00m\u001b[43m)\u001b[49m\u001b[43m,\u001b[49m\n\u001b[0;32m   1885\u001b[0m \u001b[43m    \u001b[49m\u001b[43mmemory_map\u001b[49m\u001b[38;5;241;43m=\u001b[39;49m\u001b[38;5;28;43mself\u001b[39;49m\u001b[38;5;241;43m.\u001b[39;49m\u001b[43moptions\u001b[49m\u001b[38;5;241;43m.\u001b[39;49m\u001b[43mget\u001b[49m\u001b[43m(\u001b[49m\u001b[38;5;124;43m\"\u001b[39;49m\u001b[38;5;124;43mmemory_map\u001b[39;49m\u001b[38;5;124;43m\"\u001b[39;49m\u001b[43m,\u001b[49m\u001b[43m \u001b[49m\u001b[38;5;28;43;01mFalse\u001b[39;49;00m\u001b[43m)\u001b[49m\u001b[43m,\u001b[49m\n\u001b[0;32m   1886\u001b[0m \u001b[43m    \u001b[49m\u001b[43mis_text\u001b[49m\u001b[38;5;241;43m=\u001b[39;49m\u001b[43mis_text\u001b[49m\u001b[43m,\u001b[49m\n\u001b[0;32m   1887\u001b[0m \u001b[43m    \u001b[49m\u001b[43merrors\u001b[49m\u001b[38;5;241;43m=\u001b[39;49m\u001b[38;5;28;43mself\u001b[39;49m\u001b[38;5;241;43m.\u001b[39;49m\u001b[43moptions\u001b[49m\u001b[38;5;241;43m.\u001b[39;49m\u001b[43mget\u001b[49m\u001b[43m(\u001b[49m\u001b[38;5;124;43m\"\u001b[39;49m\u001b[38;5;124;43mencoding_errors\u001b[39;49m\u001b[38;5;124;43m\"\u001b[39;49m\u001b[43m,\u001b[49m\u001b[43m \u001b[49m\u001b[38;5;124;43m\"\u001b[39;49m\u001b[38;5;124;43mstrict\u001b[39;49m\u001b[38;5;124;43m\"\u001b[39;49m\u001b[43m)\u001b[49m\u001b[43m,\u001b[49m\n\u001b[0;32m   1888\u001b[0m \u001b[43m    \u001b[49m\u001b[43mstorage_options\u001b[49m\u001b[38;5;241;43m=\u001b[39;49m\u001b[38;5;28;43mself\u001b[39;49m\u001b[38;5;241;43m.\u001b[39;49m\u001b[43moptions\u001b[49m\u001b[38;5;241;43m.\u001b[39;49m\u001b[43mget\u001b[49m\u001b[43m(\u001b[49m\u001b[38;5;124;43m\"\u001b[39;49m\u001b[38;5;124;43mstorage_options\u001b[39;49m\u001b[38;5;124;43m\"\u001b[39;49m\u001b[43m,\u001b[49m\u001b[43m \u001b[49m\u001b[38;5;28;43;01mNone\u001b[39;49;00m\u001b[43m)\u001b[49m\u001b[43m,\u001b[49m\n\u001b[0;32m   1889\u001b[0m \u001b[43m\u001b[49m\u001b[43m)\u001b[49m\n\u001b[0;32m   1890\u001b[0m \u001b[38;5;28;01massert\u001b[39;00m \u001b[38;5;28mself\u001b[39m\u001b[38;5;241m.\u001b[39mhandles \u001b[38;5;129;01mis\u001b[39;00m \u001b[38;5;129;01mnot\u001b[39;00m \u001b[38;5;28;01mNone\u001b[39;00m\n\u001b[0;32m   1891\u001b[0m f \u001b[38;5;241m=\u001b[39m \u001b[38;5;28mself\u001b[39m\u001b[38;5;241m.\u001b[39mhandles\u001b[38;5;241m.\u001b[39mhandle\n",
      "File \u001b[1;32m~\\AppData\\Local\\Programs\\Python\\Python312\\Lib\\site-packages\\pandas\\io\\common.py:873\u001b[0m, in \u001b[0;36mget_handle\u001b[1;34m(path_or_buf, mode, encoding, compression, memory_map, is_text, errors, storage_options)\u001b[0m\n\u001b[0;32m    868\u001b[0m \u001b[38;5;28;01melif\u001b[39;00m \u001b[38;5;28misinstance\u001b[39m(handle, \u001b[38;5;28mstr\u001b[39m):\n\u001b[0;32m    869\u001b[0m     \u001b[38;5;66;03m# Check whether the filename is to be opened in binary mode.\u001b[39;00m\n\u001b[0;32m    870\u001b[0m     \u001b[38;5;66;03m# Binary mode does not support 'encoding' and 'newline'.\u001b[39;00m\n\u001b[0;32m    871\u001b[0m     \u001b[38;5;28;01mif\u001b[39;00m ioargs\u001b[38;5;241m.\u001b[39mencoding \u001b[38;5;129;01mand\u001b[39;00m \u001b[38;5;124m\"\u001b[39m\u001b[38;5;124mb\u001b[39m\u001b[38;5;124m\"\u001b[39m \u001b[38;5;129;01mnot\u001b[39;00m \u001b[38;5;129;01min\u001b[39;00m ioargs\u001b[38;5;241m.\u001b[39mmode:\n\u001b[0;32m    872\u001b[0m         \u001b[38;5;66;03m# Encoding\u001b[39;00m\n\u001b[1;32m--> 873\u001b[0m         handle \u001b[38;5;241m=\u001b[39m \u001b[38;5;28;43mopen\u001b[39;49m\u001b[43m(\u001b[49m\n\u001b[0;32m    874\u001b[0m \u001b[43m            \u001b[49m\u001b[43mhandle\u001b[49m\u001b[43m,\u001b[49m\n\u001b[0;32m    875\u001b[0m \u001b[43m            \u001b[49m\u001b[43mioargs\u001b[49m\u001b[38;5;241;43m.\u001b[39;49m\u001b[43mmode\u001b[49m\u001b[43m,\u001b[49m\n\u001b[0;32m    876\u001b[0m \u001b[43m            \u001b[49m\u001b[43mencoding\u001b[49m\u001b[38;5;241;43m=\u001b[39;49m\u001b[43mioargs\u001b[49m\u001b[38;5;241;43m.\u001b[39;49m\u001b[43mencoding\u001b[49m\u001b[43m,\u001b[49m\n\u001b[0;32m    877\u001b[0m \u001b[43m            \u001b[49m\u001b[43merrors\u001b[49m\u001b[38;5;241;43m=\u001b[39;49m\u001b[43merrors\u001b[49m\u001b[43m,\u001b[49m\n\u001b[0;32m    878\u001b[0m \u001b[43m            \u001b[49m\u001b[43mnewline\u001b[49m\u001b[38;5;241;43m=\u001b[39;49m\u001b[38;5;124;43m\"\u001b[39;49m\u001b[38;5;124;43m\"\u001b[39;49m\u001b[43m,\u001b[49m\n\u001b[0;32m    879\u001b[0m \u001b[43m        \u001b[49m\u001b[43m)\u001b[49m\n\u001b[0;32m    880\u001b[0m     \u001b[38;5;28;01melse\u001b[39;00m:\n\u001b[0;32m    881\u001b[0m         \u001b[38;5;66;03m# Binary mode\u001b[39;00m\n\u001b[0;32m    882\u001b[0m         handle \u001b[38;5;241m=\u001b[39m \u001b[38;5;28mopen\u001b[39m(handle, ioargs\u001b[38;5;241m.\u001b[39mmode)\n",
      "\u001b[1;31mFileNotFoundError\u001b[0m: [Errno 2] No such file or directory: 'CardioGoodFitness.csv'"
     ]
    }
   ],
   "source": [
    "df = pd.read_csv('CardioGoodFitness.csv')"
   ]
  },
  {
   "cell_type": "code",
   "execution_count": null,
   "id": "0f76ff18-033e-4203-9c06-fda081ef69b8",
   "metadata": {},
   "outputs": [],
   "source": [
    "df.columns"
   ]
  },
  {
   "cell_type": "markdown",
   "id": "4670777c-51cf-4813-bf84-4ef45a077228",
   "metadata": {},
   "source": [
    "### 1) Basic Analysis"
   ]
  },
  {
   "cell_type": "code",
   "execution_count": null,
   "id": "770147d1-1173-48db-b59a-75c37795eb76",
   "metadata": {},
   "outputs": [],
   "source": [
    "df.Product.unique()"
   ]
  },
  {
   "cell_type": "code",
   "execution_count": null,
   "id": "a9794be7-136a-428a-8d84-f7f0fe8cbb36",
   "metadata": {},
   "outputs": [],
   "source": [
    "model_tots = df.groupby('Product')['Product'].count()\n",
    "# model_tots"
   ]
  },
  {
   "cell_type": "code",
   "execution_count": null,
   "id": "16f69139-2c20-4d11-9983-14e2f3a7289c",
   "metadata": {
    "scrolled": true
   },
   "outputs": [],
   "source": [
    "plt.pie(model_tots, autopct='%.1f%%');\n",
    "plt.legend(title='Model Type', labels=['TM195','TM498','TM798'], loc=\"center left\",bbox_to_anchor=(1, 0, 0.5, 1))\n",
    "plt.tight_layout()\n",
    "plt.title('Model Market Share');"
   ]
  },
  {
   "cell_type": "markdown",
   "id": "a7bebdfd-9e69-437e-9358-7189c658b4bd",
   "metadata": {},
   "source": [
    "#### Remarks::\n",
    "\n",
    "* TM195 most popular model, TM 798 least\n",
    "\n",
    "**Conclusion**\n",
    "\n",
    "* Focus advertising on TM195"
   ]
  },
  {
   "cell_type": "markdown",
   "id": "cc52827a-48f1-4d6f-8896-7b13456d4b92",
   "metadata": {},
   "source": [
    "### 2) Analysing Numerics"
   ]
  },
  {
   "cell_type": "code",
   "execution_count": null,
   "id": "d9730e9a-5953-4476-92db-798ae5d1e1e9",
   "metadata": {},
   "outputs": [],
   "source": [
    "tm195 = df[df['Product'] == 'TM195']\n",
    "tm498 = df[df['Product'] == 'TM498']\n",
    "tm798 = df[df['Product'] == 'TM798']"
   ]
  },
  {
   "cell_type": "code",
   "execution_count": null,
   "id": "9d7b3da8-c4a1-4d23-93c7-e1fa5362f4e4",
   "metadata": {},
   "outputs": [],
   "source": [
    "# display(tm195.describe(), tm498.describe(), tm798.describe())"
   ]
  },
  {
   "cell_type": "code",
   "execution_count": null,
   "id": "387074dc-4a84-4106-8d36-8405e8e4f025",
   "metadata": {},
   "outputs": [],
   "source": [
    "fig, axes = plt.subplots(2,3, figsize=(12,8))\n",
    "\n",
    "sns.boxplot(ax = axes[0,0], data = df, x = 'Product', y = 'Age', hue = 'Product')\n",
    "sns.boxplot(ax = axes[0,1], data = df, x = 'Product', y = 'Income', hue = 'Product')\n",
    "sns.boxplot(ax = axes[0,2], data = df, x = 'Product', y = 'Education', hue = 'Product')\n",
    "sns.boxplot(ax = axes[1,0], data = df, x = 'Product', y = 'Usage', hue = 'Product')\n",
    "sns.boxplot(ax = axes[1,1], data = df, x = 'Product', y = 'Miles', hue = 'Product')\n",
    "sns.violinplot(ax = axes[1,2], data = df, x = 'Product', y = 'Fitness', hue = 'Product')\n",
    "plt.suptitle('Distribution of Numerics with Respect to Model Type (Product)')\n",
    "plt.tight_layout()"
   ]
  },
  {
   "cell_type": "markdown",
   "id": "f7a9f09c-b74a-47c2-9184-c64dd1c9b2d4",
   "metadata": {},
   "source": [
    "#### Remarks::\n",
    "\n",
    "* Ages between early twenties and mid thirties\n",
    "* TM798 has a unique user base, those that are wealthier, more educated and who want to use their treadmill more\n",
    "* TM195 and TM 498 have similar users\n",
    "\n",
    "**Conclusions**\n",
    "\n",
    "* Advertise geared towards 20 - 35 year olds\n",
    "* Have a segmented customer base: can direct advertising accordingly\n",
    "* 195 and 498 possibly combined into one model - same customer base"
   ]
  },
  {
   "cell_type": "markdown",
   "id": "2cd594c7-71e3-4dc9-a572-f342d683cc9d",
   "metadata": {},
   "source": [
    "### 3) Analysing Binaries"
   ]
  },
  {
   "cell_type": "code",
   "execution_count": null,
   "id": "56470d5d-fc97-4aad-9ba8-b6633ceff480",
   "metadata": {},
   "outputs": [],
   "source": [
    "gender_counts = df.groupby(['Product','Gender'])['Age'].count().unstack()\n",
    "marital_counts = df.groupby(['Product','MaritalStatus'])['Age'].count().unstack()"
   ]
  },
  {
   "cell_type": "code",
   "execution_count": null,
   "id": "3e73f9e4-b779-4121-87de-4d73ddbbcb2f",
   "metadata": {},
   "outputs": [],
   "source": [
    "fig, axes = plt.subplots(1,2, figsize = (15,7))\n",
    "gender_counts.plot(ax = axes[0], kind='bar', stacked=False, color=['red','blue'], ylabel = 'Number of Customers', xlabel='Model type', title='Gender')\n",
    "axes[0].legend(['Female','Male'],\n",
    "          loc=\"upper right\",)\n",
    "marital_counts.plot(ax=axes[1], kind='bar', stacked=False, color = ['green','orange'], ylabel='Number of Customers', xlabel='Model type',title='Marital Status')\n",
    "axes[1].legend(['Partnered','Single'],\n",
    "          loc=\"upper right\",)\n",
    "fig.suptitle('Number of customers against model type with respect to binaries')"
   ]
  },
  {
   "cell_type": "markdown",
   "id": "7cdc39b1-d4c7-450b-a386-0f7cc1bfb1eb",
   "metadata": {},
   "source": [
    "[Office for National Statistics](https://www.ons.gov.uk/peoplepopulationandcommunity/populationandmigration/populationestimates/bulletins/populationestimatesbymaritalstatusandlivingarrangements/2019)\\\n",
    "*In 2019, just over half of the population (50.4%) were in a legally recognised partnership (50.2% were married with a further 0.2% in a civil partnership). An estimated 35.0% of the population were single (never married or in a civil partnership), with divorced/dissolved civil partnership and widowed/surviving civil partner accounting for 8.2% and 6.5% of the population respectively.*"
   ]
  },
  {
   "cell_type": "code",
   "execution_count": null,
   "id": "276ca0f9-027d-4697-bc9f-9fa23ec86d40",
   "metadata": {},
   "outputs": [],
   "source": [
    "partner_to_non = 0.504"
   ]
  },
  {
   "cell_type": "code",
   "execution_count": null,
   "id": "115f434f-9233-4aae-8651-2ef8e10f71ab",
   "metadata": {},
   "outputs": [],
   "source": [
    "df['MaritalStatus'].value_counts()"
   ]
  },
  {
   "cell_type": "code",
   "execution_count": null,
   "id": "e2a8734d-c1e4-4d3e-817f-e4b69f758055",
   "metadata": {},
   "outputs": [],
   "source": [
    "marital_counts['ratio'] = marital_counts['Partnered']/(marital_counts['Single'] + marital_counts['Partnered'])\n",
    "marital_counts['above_stat'] = marital_counts['ratio']>partner_to_non\n",
    "marital_counts"
   ]
  },
  {
   "cell_type": "markdown",
   "id": "020ca1cf-eb77-4e70-a35f-9c7f43f25e71",
   "metadata": {},
   "source": [
    "#### Remarks:\n",
    "\n",
    "* Males more likely to buy 798 by far\n",
    "* Partnered people more likely to buy treadmils across the board\n",
    "\n",
    "**Conclusions**\n",
    "\n",
    "* Advertising for 798 geared towards men\n",
    "* All advertising should be somewhat geared towards people in relationships."
   ]
  },
  {
   "cell_type": "markdown",
   "id": "82b76125-9fc2-4093-9c51-bf8a8c95084e",
   "metadata": {},
   "source": [
    "### 4a) Further Illustrating Customer demographics with numerics"
   ]
  },
  {
   "cell_type": "markdown",
   "id": "9ff8ab94-4431-444a-952f-629d10362dd1",
   "metadata": {},
   "source": [
    "*inspired by*\n",
    "[OBrunet](https://obrunet.github.io/data%20science/cardio/)"
   ]
  },
  {
   "cell_type": "code",
   "execution_count": null,
   "id": "5f6ce914-58f7-456c-b60f-c872079d7ea8",
   "metadata": {},
   "outputs": [],
   "source": [
    "df.columns"
   ]
  },
  {
   "cell_type": "code",
   "execution_count": null,
   "id": "0f866b12-5430-4b97-8f3d-3d6420efac4a",
   "metadata": {},
   "outputs": [],
   "source": [
    "mean_data = df.groupby('Product')[['Age', 'Education', 'Usage', 'Fitness', 'Income', 'Miles']].mean()\n",
    "base = mean_data.loc['TM195']\n",
    "scaled = mean_data/base\n",
    "scaled"
   ]
  },
  {
   "cell_type": "code",
   "execution_count": null,
   "id": "383eb8c6-f9aa-4e14-8853-cfd6099344e0",
   "metadata": {},
   "outputs": [],
   "source": [
    "radar_data = pd.DataFrame(scaled.stack())\n",
    "\n",
    "radar_data_195 = radar_data.loc['TM195']\n",
    "radar_data_195.reset_index(inplace = True)\n",
    "radar_data_195.rename({0:'scaled'},axis=1, inplace=True)\n",
    "\n",
    "radar_data_498 = radar_data.loc['TM498']\n",
    "radar_data_498.reset_index(inplace = True)\n",
    "radar_data_498.rename({0:'scaled'},axis=1, inplace=True)\n",
    "\n",
    "radar_data_798 = radar_data.loc['TM798']\n",
    "radar_data_798.reset_index(inplace = True)\n",
    "radar_data_798.rename({0:'scaled'},axis=1, inplace=True)"
   ]
  },
  {
   "cell_type": "code",
   "execution_count": null,
   "id": "03d4816e-1dae-4353-8d8b-0d9a0440cae1",
   "metadata": {},
   "outputs": [],
   "source": [
    "fig = go.Figure()\n",
    "# fig.add_trace(go.Scatterpolar(r=radar_data_798['scaled'], theta=radar_data_798['index'], fill='toself', name='798'))\n",
    "# fig.add_trace(go.Scatterpolar(r=radar_data_498['scaled'], theta=radar_data_498['index'],fill='toself', name='498'))\n",
    "fig.add_trace(go.Scatterpolar(r=radar_data_195['scaled'], theta=radar_data_195['index'], name='195'))\n",
    "fig.add_trace(go.Scatterpolar(r=radar_data_498['scaled'], theta=radar_data_498['index'], name='498'))\n",
    "fig.add_trace(go.Scatterpolar(r=radar_data_798['scaled'], theta=radar_data_798['index'], name='798'))\n",
    "fig.show()"
   ]
  },
  {
   "cell_type": "code",
   "execution_count": null,
   "id": "0413b74a-9f9a-4546-8bab-61fbb71384d0",
   "metadata": {},
   "outputs": [],
   "source": [
    "df.select_dtypes('number').columns"
   ]
  },
  {
   "cell_type": "code",
   "execution_count": null,
   "id": "144195e1-18b9-4d68-ad03-e0c192df0255",
   "metadata": {},
   "outputs": [],
   "source": [
    "#mmscaled = \n",
    "# MinMaxScaler.fit_transform(df[df.select_dtypes('number').columns])\n",
    "scaler = MinMaxScaler()\n",
    "df_scaled = scaler.fit_transform(df[df.select_dtypes('number').columns])\n",
    "df_scaled = pd.DataFrame(df_scaled, columns = ['Age', 'Education', 'Usage', 'Fitness', 'Income', 'Miles'])\n",
    "df_scaled = pd.concat([df['Product'],df_scaled*5],axis=1)\n",
    "df_scaled = df_scaled.groupby('Product').mean()"
   ]
  },
  {
   "cell_type": "code",
   "execution_count": null,
   "id": "fddf0d20-ac8c-4500-942d-a315613485b0",
   "metadata": {},
   "outputs": [],
   "source": [
    "radar_data = pd.DataFrame(df_scaled.stack())\n",
    "\n",
    "radar_data_195 = radar_data.loc['TM195']\n",
    "radar_data_195.reset_index(inplace = True)\n",
    "radar_data_195.rename({0:'scaled'},axis=1, inplace=True)\n",
    "\n",
    "radar_data_498 = radar_data.loc['TM498']\n",
    "radar_data_498.reset_index(inplace = True)\n",
    "radar_data_498.rename({0:'scaled'},axis=1, inplace=True)\n",
    "\n",
    "radar_data_798 = radar_data.loc['TM798']\n",
    "radar_data_798.reset_index(inplace = True)\n",
    "radar_data_798.rename({0:'scaled'},axis=1, inplace=True)"
   ]
  },
  {
   "cell_type": "code",
   "execution_count": null,
   "id": "891e6f18-fd43-4348-b604-92e62209ceef",
   "metadata": {},
   "outputs": [],
   "source": [
    "fig = go.Figure()\n",
    "fig.add_trace(go.Scatterpolar(r=radar_data_195['scaled'], theta=radar_data_195['index'], name='195'))\n",
    "fig.add_trace(go.Scatterpolar(r=radar_data_498['scaled'], theta=radar_data_498['index'], name='498'))\n",
    "fig.add_trace(go.Scatterpolar(r=radar_data_798['scaled'], theta=radar_data_798['index'],  name='798'))\n",
    "fig.show()"
   ]
  },
  {
   "cell_type": "markdown",
   "id": "ac24a793-9f83-47c2-9af4-6033fe468e17",
   "metadata": {},
   "source": [
    "#### Remarks\n",
    "\n",
    "* Provides extra clarification that over the whole customer base 498 and 195 have the same appeal\n",
    "* Brunet provides addditional segmentation by gender splitting, argument for a male or female version of 498 and 195\n",
    "\n",
    "**Conclusion**\n",
    "\n",
    "* drop 498 and focus advertising on 195 exclusively"
   ]
  },
  {
   "cell_type": "markdown",
   "id": "586efaa2-6737-47ef-8908-546733cafcf6",
   "metadata": {},
   "source": [
    "### 5ai) Numerics Correlation matrix"
   ]
  },
  {
   "cell_type": "code",
   "execution_count": null,
   "id": "b97eab5c-8c55-4044-8e83-8474c99f5ae1",
   "metadata": {},
   "outputs": [],
   "source": [
    "correlation_matrix = df[[ 'Age', 'Education', 'Usage',\n",
    "       'Fitness', 'Income', 'Miles']].corr()\n",
    "matrix=np.triu(correlation_matrix)\n",
    "sns.heatmap(correlation_matrix, annot=True, mask = matrix, cmap='magma', square=True, linewidth=0.5 )\n",
    "plt.title('Pearson Correlation of numeric features wrt each other')\n",
    "plt.tight_layout()"
   ]
  },
  {
   "cell_type": "markdown",
   "id": "4e81b30a-800b-458c-8fe2-b7f455ef1f09",
   "metadata": {},
   "source": [
    "##### Remarks:\n",
    "\n",
    "* Income is highly correlated with every feature!\n",
    "* Expected Miles shows greatest correlation of the group, with usage and fitness"
   ]
  },
  {
   "cell_type": "markdown",
   "id": "49153bbc-ad92-4b71-9ad4-79756835390d",
   "metadata": {},
   "source": [
    "##### appending model indicators"
   ]
  },
  {
   "cell_type": "code",
   "execution_count": null,
   "id": "04b4f778-6eb6-444c-8a5a-df7acce0cdf6",
   "metadata": {},
   "outputs": [],
   "source": [
    "df_correlation = df.copy()\n",
    "df_correlation['TM195'] = df['Product'] == 'TM195'\n",
    "df_correlation['TM498'] = df['Product'] == 'TM498'\n",
    "df_correlation['TM798'] = df['Product'] == 'TM798'\n",
    "df_correlation.drop(['Product','Gender','MaritalStatus'],inplace = True, axis=1)"
   ]
  },
  {
   "cell_type": "code",
   "execution_count": null,
   "id": "7f5457ba-d82f-4c0d-ab42-dd5420747ad5",
   "metadata": {},
   "outputs": [],
   "source": [
    "mask = df_correlation.corr().copy()\n",
    "mask.drop(['Age','Education','Usage','Fitness','Income','Miles'],axis=0, inplace =True)\n",
    "mask.drop(['TM195','TM498','TM798'],axis=1, inplace =True )\n",
    "sns.heatmap(mask,  annot=True, cmap='magma',square=True, linewidth=0.5 )\n",
    "plt.title('Point Biserial Correlation of numeric features With Model Type')\n",
    "plt.tight_layout()"
   ]
  },
  {
   "cell_type": "code",
   "execution_count": null,
   "id": "27025661-3898-44a9-a55c-ce0567e9833d",
   "metadata": {},
   "outputs": [],
   "source": [
    "mask"
   ]
  },
  {
   "cell_type": "markdown",
   "id": "3e6776cb-355c-4353-bb14-5ef6150a01b7",
   "metadata": {},
   "source": [
    "#### Remarks:\n",
    "\n",
    "* some nonsense data .e.g correlation between indicators\n",
    "* qualifies level of correlation between 798 and numeric variables Useful to strengthen arguments\n",
    "* Age has no bearing on model choice"
   ]
  },
  {
   "cell_type": "markdown",
   "id": "f2214886-a7ab-4250-9e3c-91fee27e4635",
   "metadata": {},
   "source": [
    "## 5ai) Establishing Statistically Significant Relationships"
   ]
  },
  {
   "cell_type": "code",
   "execution_count": null,
   "id": "58e2cb26-8649-41f9-8870-47e2b118b46d",
   "metadata": {},
   "outputs": [],
   "source": [
    "df_nums = df.select_dtypes(include=['int64','float64'])\n",
    "df_nums"
   ]
  },
  {
   "cell_type": "code",
   "execution_count": null,
   "id": "35ca51e9-3280-4625-a983-1ed04c43eda5",
   "metadata": {},
   "outputs": [],
   "source": [
    "cols_nums"
   ]
  },
  {
   "cell_type": "code",
   "execution_count": null,
   "id": "e05d98f1-261c-4deb-96c9-8c97713f8057",
   "metadata": {},
   "outputs": [],
   "source": [
    "cols_nums = df_nums.columns \n",
    "num_cols = cols_nums\n",
    "num_cols_r = cols_nums\n",
    "\n",
    "psage=[]\n",
    "pseducation=[]\n",
    "psusage=[]\n",
    "psfitness=[]\n",
    "psincome=[]\n",
    "psmiles=[]\n",
    "keys_nums=[]\n",
    "corrcs_nums=[]\n",
    "for rcol in num_cols:\n",
    "    for col in num_cols_r:\n",
    "        # print(col, rcol)\n",
    "        correlation_coefficient, p_value = ss.pearsonr(df_nums[col], df_nums[rcol])\n",
    "        # print(correlation_coefficient, p_value)\n",
    "        keys_nums.append(col)\n",
    "        corrcs_nums.append(correlation_coefficient)\n",
    "        if rcol =='Age':\n",
    "            psage.append(p_value)\n",
    "        elif rcol =='Education':\n",
    "            pseducation.append(p_value)\n",
    "        elif rcol =='Usage':\n",
    "            psusage.append(p_value)\n",
    "        elif rcol =='Fitness':\n",
    "            psfitness.append(p_value)\n",
    "        elif rcol =='Income':\n",
    "            psincome.append(p_value)\n",
    "        else:\n",
    "            psmiles.append(p_value)\n",
    "        \n",
    "    # print('\\n')"
   ]
  },
  {
   "cell_type": "code",
   "execution_count": null,
   "id": "be8e8d02-9db3-46b1-9485-76e85cb1c1fa",
   "metadata": {},
   "outputs": [],
   "source": [
    "print(len(psage),len(pseducation),len(psusage),len(psfitness))"
   ]
  },
  {
   "cell_type": "code",
   "execution_count": null,
   "id": "23d6cea9-977a-4350-b57a-6d8a9b404b21",
   "metadata": {},
   "outputs": [],
   "source": [
    "df_pval = pd.DataFrame({'Age':psage, 'Education':pseducation,'Usage':psusage, 'Fitness':psfitness,\\\n",
    "                       'Income':psincome, 'Miles':psmiles},index=num_cols_r)\n",
    "display(df_pval)\n",
    "df_pval<0.05\n",
    "# df_pval.drop('Age')\n",
    "df_pval.transpose()\n",
    "# df_pval = df_pval.loc['Education':,'Education':]\n",
    "display(df_pval)\n",
    "masking_m_nums=np.triu(df_pval)\n",
    "sns.heatmap(df_pval, mask=masking_m_nums, square=True, linewidths=0.05, annot=True)\n",
    "plt.title('p-value for numerics against model type')"
   ]
  },
  {
   "cell_type": "code",
   "execution_count": null,
   "id": "c2470caa-eaf5-4c1b-8b0a-ddcf3b4a93e1",
   "metadata": {},
   "outputs": [],
   "source": [
    "cols = df_correlation.columns \n",
    "numerics = cols[:-3]\n",
    "models = cols[-3:]\n",
    "\n",
    "ps195=[]\n",
    "ps498=[]\n",
    "ps798=[]\n",
    "keys=[]\n",
    "corrcs=[]\n",
    "for rcol in models:\n",
    "    for col in numerics:\n",
    "        # print(col, rcol)\n",
    "        correlation_coefficient, p_value = ss.pointbiserialr(df_correlation[col], df_correlation[rcol])\n",
    "        # print(correlation_coefficient, p_value)\n",
    "        keys.append(col)\n",
    "        corrcs.append(correlation_coefficient)\n",
    "        if rcol =='TM195':\n",
    "            ps195.append(p_value)\n",
    "        elif rcol =='TM498':\n",
    "            ps498.append(p_value)\n",
    "        else:\n",
    "            ps798.append(p_value)\n",
    "        \n",
    "    # print('\\n')"
   ]
  },
  {
   "cell_type": "code",
   "execution_count": null,
   "id": "0ee0cc9f-c1d2-4249-a3eb-dd94da514309",
   "metadata": {},
   "outputs": [],
   "source": [
    "df_pval = pd.DataFrame({'TM195':ps195, 'TM498':ps498,'TM798':ps798}, index=numerics)\n",
    "display(df_pval)\n",
    "df_pval<0.05\n",
    "df_pval=df_pval.transpose()\n",
    "sns.heatmap(df_pval,square=True, linewidths=0.05, annot=True)\n",
    "plt.title('p-value for numerics against model type')"
   ]
  },
  {
   "cell_type": "markdown",
   "id": "47c05566-dedb-4198-822c-f26baa6f281b",
   "metadata": {
    "jp-MarkdownHeadingCollapsed": true
   },
   "source": [
    "### 5b) Categorical Pearson's correlation matrix"
   ]
  },
  {
   "cell_type": "code",
   "execution_count": null,
   "id": "d13ca606-04ee-4037-9638-898c2cf993cd",
   "metadata": {},
   "outputs": [],
   "source": [
    "df['MaritalStatus'].unique()"
   ]
  },
  {
   "cell_type": "code",
   "execution_count": null,
   "id": "1ceeae18-61fe-4979-b7f0-490361b3c5fb",
   "metadata": {},
   "outputs": [],
   "source": [
    "df_encoded = df.copy()\n",
    "df_encoded = df_encoded.select_dtypes(include='object')\n",
    "df_encoded['male'] = df['Gender'] =='Male'\n",
    "df_encoded['female'] = df['Gender'] =='Female'\n",
    "df_encoded['single'] = df['MaritalStatus'] =='Single'\n",
    "df_encoded['partnered'] = df['MaritalStatus'] =='Partnered'\n",
    "df_encoded['TM195'] = df['Product'] == 'TM195'\n",
    "df_encoded['TM498'] = df['Product'] == 'TM498'\n",
    "df_encoded['TM798'] = df['Product'] == 'TM798'\n",
    "df_encoded.drop(['Product','Gender','MaritalStatus'],axis=1, inplace= True)"
   ]
  },
  {
   "cell_type": "code",
   "execution_count": null,
   "id": "339bea20-305c-4554-8e6b-dbde0e0b6871",
   "metadata": {},
   "outputs": [],
   "source": [
    "encoded_cor_m = df_encoded.corr()\n",
    "masked = encoded_cor_m.copy()\n",
    "masked.drop(['male','female','single','partnered'],axis=0, inplace = True)\n",
    "masked.drop(['TM195','TM498','TM798'],axis=1, inplace = True)\n",
    "sns.heatmap(masked, annot=True,cmap ='viridis', square=True, linewidth=0.5);"
   ]
  },
  {
   "cell_type": "markdown",
   "id": "de82dd51-3e37-4c91-90ac-68601d843fc5",
   "metadata": {
    "jp-MarkdownHeadingCollapsed": true
   },
   "source": [
    "### 5d) Jaccard Similarity"
   ]
  },
  {
   "cell_type": "code",
   "execution_count": null,
   "id": "c6e33f9f-afe6-4fc9-80f4-66c8c5b55ef9",
   "metadata": {},
   "outputs": [],
   "source": [
    "def jaccard_similarity(vec1, vec2):\n",
    "    intersection = np.sum(vec1 & vec2)\n",
    "    union = np.sum(vec1 | vec2)\n",
    "    return intersection / union"
   ]
  },
  {
   "cell_type": "code",
   "execution_count": null,
   "id": "8523eb44-6f3b-4686-81fe-79283899f5c5",
   "metadata": {},
   "outputs": [],
   "source": [
    "jaccards=[]\n",
    "key=[]\n",
    "jaccards = pd.DataFrame(np.zeros((len(df_encoded.columns),len(df_encoded.columns))))\n",
    "jaccards.index = df_encoded.columns\n",
    "jaccards.columns = df_encoded.columns\n",
    "for i in range(len(df_encoded.columns)):\n",
    "    for j in range(len(df_encoded.columns)):\n",
    "        jaccards.iloc[i,j] =jaccard_similarity(df_encoded.iloc[:,i], df_encoded.iloc[:,j])\n",
    "        jaccards.index\n",
    "\n",
    "jaccards"
   ]
  },
  {
   "cell_type": "code",
   "execution_count": null,
   "id": "e3e2f909-aa0d-4b93-82c1-31a88198a3b1",
   "metadata": {},
   "outputs": [],
   "source": [
    "masked_jaccard = jaccards.copy()\n",
    "masked_jaccard.drop(['male','female','single','partnered'],axis=0, inplace = True)\n",
    "masked_jaccard.drop(['TM195','TM498','TM798'],axis=1, inplace = True)\n",
    "sns.heatmap(masked_jaccard, annot=True,cmap ='viridis', square=True, linewidth=0.5);"
   ]
  },
  {
   "cell_type": "markdown",
   "id": "6570d1d2-cf33-4e23-9d1a-29dbd9a99168",
   "metadata": {},
   "source": [
    "### 5d) Categorical Dice coef"
   ]
  },
  {
   "cell_type": "code",
   "execution_count": null,
   "id": "47fb41a3-f73c-45ce-ae96-ecc445791bc9",
   "metadata": {},
   "outputs": [],
   "source": [
    "def dice_coefficient(vec1, vec2):\n",
    "    intersection = np.sum(vec1 & vec2)\n",
    "    total = np.sum(vec1) + np.sum(vec2)\n",
    "    return 2 * intersection / total"
   ]
  },
  {
   "cell_type": "code",
   "execution_count": null,
   "id": "f6687e89-aec0-4dda-bbde-83a0ae4b8bf3",
   "metadata": {},
   "outputs": [],
   "source": [
    "dices=[]\n",
    "key=[]\n",
    "dices = pd.DataFrame(np.zeros((len(df_encoded.columns),len(df_encoded.columns))))\n",
    "dices.index = df_encoded.columns\n",
    "dices.columns = df_encoded.columns\n",
    "for i in range(len(df_encoded.columns)):\n",
    "    for j in range(len(df_encoded.columns)):\n",
    "        dices.iloc[i,j] =dice_coefficient(df_encoded.iloc[:,i], df_encoded.iloc[:,j])\n",
    "        dices.index\n",
    "\n",
    "dices"
   ]
  },
  {
   "cell_type": "code",
   "execution_count": null,
   "id": "76a847a2-bd86-4a8f-bb42-907db6824262",
   "metadata": {},
   "outputs": [],
   "source": [
    "masked_dice = dices.copy()\n",
    "masked_dice.drop(['male','female','single','partnered'],axis=0, inplace = True)\n",
    "masked_dice.drop(['TM195','TM498','TM798'],axis=1, inplace = True)\n",
    "sns.heatmap(masked_dice, annot=True,cmap ='viridis', square=True, linewidth=0.5);\n",
    "plt.title('Dice similarity of binary features wrt model choice')\n",
    "plt.tight_layout()"
   ]
  },
  {
   "cell_type": "markdown",
   "id": "d2b06c64-8a1b-406a-98b3-914b813e5cb8",
   "metadata": {},
   "source": [
    "**Remarks:**\n",
    "\n",
    "Dice is the most effeective for measuring set overlap of binaries.\n",
    "Doesn't really make sence to check correlation - binaries don't scale with each other, either are or aren't present. Hence similarity score..\n",
    "\n",
    "Dice>Jacard because it doesn't penalise smaller sets - taking sum of size of positives from sets rather than union of sets massively means despite different sizing the similarity is scaled fairly"
   ]
  },
  {
   "cell_type": "markdown",
   "id": "056f0480-1680-4d35-bb6a-4d0e3cc402dd",
   "metadata": {},
   "source": [
    "### 6a) Simpler vis of binaries"
   ]
  },
  {
   "cell_type": "code",
   "execution_count": null,
   "id": "add893d8-0f79-4167-8ea9-429a33dddf28",
   "metadata": {
    "scrolled": true
   },
   "outputs": [],
   "source": [
    "df_maried=pd.concat([pd.DataFrame(df[df['Product'] =='TM195']['MaritalStatus'].value_counts()).rename({'count':'TM195'},axis=1),#,\\\n",
    "pd.DataFrame(df[df['Product'] =='TM498']['MaritalStatus'].value_counts()).rename({'count':'TM498'},axis=1),\n",
    "pd.DataFrame(df[df['Product'] =='TM798']['MaritalStatus'].value_counts()).rename({'count':'TM798'},axis=1)], axis=1)\n",
    "\n",
    "df_maried = df_maried[['TM195', 'TM498','TM798']].astype('float64')\n",
    "\n",
    "df_maried.loc['Partnered',:] = df_maried.loc['Partnered',:]/df_maried.loc['Partnered',:].sum()\n",
    "df_maried.loc['Single',:] = df_maried.loc['Single',:]/df_maried.loc['Single',:].sum()\n",
    "\n",
    "df_maried = df_maried.transpose()\n",
    "\n",
    "sns.heatmap(df_maried, annot=True,cmap ='viridis', square=True, linewidth=0.5)"
   ]
  },
  {
   "cell_type": "code",
   "execution_count": null,
   "id": "550f19b9-7178-4be5-a096-767248cd3772",
   "metadata": {},
   "outputs": [],
   "source": [
    "df_maried=pd.concat([pd.DataFrame(df[df['Product'] =='TM195']['MaritalStatus'].value_counts()).rename({'count':'TM195'},axis=1),#,\\\n",
    "pd.DataFrame(df[df['Product'] =='TM498']['MaritalStatus'].value_counts()).rename({'count':'TM498'},axis=1),\n",
    "pd.DataFrame(df[df['Product'] =='TM798']['MaritalStatus'].value_counts()).rename({'count':'TM798'},axis=1)], axis=1)\n",
    "\n",
    "df_maried = df_maried[['TM195', 'TM498','TM798']].astype('float64')\n",
    "\n",
    "df_maried.loc[:,'TM195'] = df_maried.loc[:,'TM195']/df_maried.loc[:,'TM195'].sum()\n",
    "df_maried.loc[:,'TM498'] = df_maried.loc[:,'TM498']/df_maried.loc[:,'TM498'].sum()\n",
    "df_maried.loc[:,'TM798'] = df_maried.loc[:,'TM798']/df_maried.loc[:,'TM798'].sum()\n",
    "\n",
    "df_maried = df_maried.transpose()\n",
    "\n",
    "sns.heatmap(df_maried, annot=True,cmap ='viridis', square=True, linewidth=0.5)\n",
    "plt.title('Marital Status Distribution by Treadmill model')"
   ]
  },
  {
   "cell_type": "code",
   "execution_count": null,
   "id": "37b2c292-c9fb-4750-b8de-c741271ccfac",
   "metadata": {},
   "outputs": [],
   "source": [
    "plt.pie(df['MaritalStatus'].value_counts(), autopct='%.1f%%', colors= ['green','orange']);\n",
    "plt.legend(['Partnered','Single'],\n",
    "          title=\"Marital Status\",\n",
    "          loc=\"center left\",\n",
    "          bbox_to_anchor=(1, 0, 0.5, 1))\n",
    "plt.title('Marital Status Distribution')"
   ]
  },
  {
   "cell_type": "code",
   "execution_count": null,
   "id": "c8f2d9be-6358-4948-9992-c3b945e82d54",
   "metadata": {},
   "outputs": [],
   "source": [
    "df_gender=pd.concat([pd.DataFrame(df[df['Product'] =='TM195']['Gender'].value_counts()).rename({'count':'TM195'},axis=1),#,\\\n",
    "pd.DataFrame(df[df['Product'] =='TM498']['Gender'].value_counts()).rename({'count':'TM498'},axis=1),\n",
    "pd.DataFrame(df[df['Product'] =='TM798']['Gender'].value_counts()).rename({'count':'TM798'},axis=1)], axis=1)\n",
    "\n",
    "df_gender = df_gender[['TM195', 'TM498','TM798']].astype('float64')\n",
    "\n",
    "df_gender.loc['Male',:] = df_gender.loc['Male',:]/df_gender.loc['Male',:].sum()\n",
    "df_gender.loc['Female',:] = df_gender.loc['Female',:]/df_gender.loc['Female',:].sum()\n",
    "\n",
    "df_gender = df_gender.transpose()\n",
    "\n",
    "\n",
    "sns.heatmap(df_gender, annot=True,cmap ='viridis', square=True, linewidth=0.5)\n",
    "plt.title('Treadmill distribution by gender')"
   ]
  },
  {
   "cell_type": "code",
   "execution_count": null,
   "id": "c1c2a532-19cd-4047-8829-a1b7cae1ff9e",
   "metadata": {},
   "outputs": [],
   "source": [
    "fig, axe = plt.subplots(1,2)\n",
    "# axe[0].pie(df_gender['Male'], labels=['TM195', 'TM498','TM798'], autopct='%.f%%');\n",
    "axe[0].pie(df_gender['Male'], autopct='%.1f%%', );\n",
    "axe[0].legend(['TM195','TM498','TM798'],\n",
    "          title=\"Model type\",\n",
    "          loc=\"center left\",\n",
    "          bbox_to_anchor=(1, 0, 0.5, 1))\n",
    "axe[0].set_title('Male')\n",
    "#axe[1].pie(df_gender['Female'],labels=['TM195', 'TM498','TM798'], autopct='%.f%%');\n",
    "axe[1].pie(df_gender['Female'], autopct='%.1f%%');\n",
    "axe[1].set_title('Female')\n",
    "plt.tight_layout()"
   ]
  },
  {
   "cell_type": "code",
   "execution_count": null,
   "id": "4a863c6e-4bca-427a-ab7b-e8f477dbfaad",
   "metadata": {},
   "outputs": [],
   "source": [
    "df_gender=pd.concat([pd.DataFrame(df[df['Product'] =='TM195']['Gender'].value_counts()).rename({'count':'TM195'},axis=1),#,\\\n",
    "pd.DataFrame(df[df['Product'] =='TM498']['Gender'].value_counts()).rename({'count':'TM498'},axis=1),\n",
    "pd.DataFrame(df[df['Product'] =='TM798']['Gender'].value_counts()).rename({'count':'TM798'},axis=1)], axis=1)\n",
    "\n",
    "df_gender = df_gender[['TM195', 'TM498','TM798']].astype('float64')\n",
    "\n",
    "df_gender.loc[:,'TM195'] = df_gender.loc[:,'TM195']/df_gender.loc[:,'TM195'].sum()\n",
    "df_gender.loc[:,'TM498'] = df_gender.loc[:,'TM498']/df_gender.loc[:,'TM498'].sum()\n",
    "df_gender.loc[:,'TM798'] = df_gender.loc[:,'TM798']/df_gender.loc[:,'TM798'].sum()\n",
    "\n",
    "\n",
    "df_gender = df_gender.transpose()\n",
    "\n",
    "sns.heatmap(df_gender, annot=True,cmap ='viridis', square=True, linewidth=0.5)\n",
    "plt.title('Gender distribution by treadmill model')"
   ]
  },
  {
   "cell_type": "markdown",
   "id": "57a2f3ea-bbc1-41d4-8fb6-ca706728699e",
   "metadata": {},
   "source": [
    "### 6b) Customer segmentation including binaries"
   ]
  },
  {
   "cell_type": "code",
   "execution_count": null,
   "id": "5d64d7ae-d486-4ee3-b787-2e312e6b466b",
   "metadata": {},
   "outputs": [],
   "source": [
    "df"
   ]
  },
  {
   "cell_type": "code",
   "execution_count": null,
   "id": "4bb38c66-7dcf-431a-baeb-403fba49c121",
   "metadata": {},
   "outputs": [],
   "source": [
    "df_fr = df.copy()\n",
    "df_fr['Male'] =df_fr['Gender']=='Male'\n",
    "# df_fr['Female'] =df_fr['Gender']=='Female'\n",
    "# df_fr['Maried'] = df_fr['MaritalStatus'] == 'Partnered'\n",
    "df_fr['Single'] = df_fr['MaritalStatus'] == 'Single'\n",
    "df_fr.drop(['Gender','MaritalStatus'],axis=1, inplace=True)"
   ]
  },
  {
   "cell_type": "code",
   "execution_count": null,
   "id": "ee20d4f9-3621-438b-96f5-87bd5d26fce8",
   "metadata": {},
   "outputs": [],
   "source": [
    "mean_data_fr = df_fr.groupby('Product')[['Age', 'Education', 'Usage', 'Fitness', 'Income', 'Miles','Male','Single']].mean()\n",
    "base_fr = mean_data_fr.loc['TM195']\n",
    "scaled_fr = mean_data_fr/base_fr\n",
    "scaled_fr"
   ]
  },
  {
   "cell_type": "code",
   "execution_count": null,
   "id": "a187418e-13a9-4098-b0c2-bb7c6cd42a91",
   "metadata": {},
   "outputs": [],
   "source": [
    "radar_data = pd.DataFrame(scaled_fr.stack())\n",
    "\n",
    "radar_data_195 = radar_data.loc['TM195']\n",
    "radar_data_195.reset_index(inplace = True)\n",
    "radar_data_195.rename({0:'scaled'},axis=1, inplace=True)\n",
    "\n",
    "radar_data_498 = radar_data.loc['TM498']\n",
    "radar_data_498.reset_index(inplace = True)\n",
    "radar_data_498.rename({0:'scaled'},axis=1, inplace=True)\n",
    "\n",
    "radar_data_798 = radar_data.loc['TM798']\n",
    "radar_data_798.reset_index(inplace = True)\n",
    "radar_data_798.rename({0:'scaled'},axis=1, inplace=True)"
   ]
  },
  {
   "cell_type": "code",
   "execution_count": null,
   "id": "693bf3b6-27b4-4a82-9869-1a56dcd035b3",
   "metadata": {},
   "outputs": [],
   "source": [
    "fig = go.Figure()\n",
    "# fig.add_trace(go.Scatterpolar(r=radar_data_798['scaled'], theta=radar_data_798['index'], fill='toself', name='798'))\n",
    "# fig.add_trace(go.Scatterpolar(r=radar_data_498['scaled'], theta=radar_data_498['index'],fill='toself', name='498'))\n",
    "fig.add_trace(go.Scatterpolar(r=radar_data_195['scaled'], theta=radar_data_195['index'], name='195'))\n",
    "fig.add_trace(go.Scatterpolar(r=radar_data_498['scaled'], theta=radar_data_498['index'], name='498'))\n",
    "fig.add_trace(go.Scatterpolar(r=radar_data_798['scaled'], theta=radar_data_798['index'], name='798'))\n",
    "fig.show()"
   ]
  },
  {
   "cell_type": "markdown",
   "id": "888c699f-88c6-4e7a-9553-0d97703e3534",
   "metadata": {},
   "source": [
    "### Further Experimentation "
   ]
  },
  {
   "cell_type": "code",
   "execution_count": null,
   "id": "444fb9cf-6619-4155-91c3-03caa353bf8b",
   "metadata": {},
   "outputs": [],
   "source": [
    "import scipy.stats as ss"
   ]
  },
  {
   "cell_type": "code",
   "execution_count": null,
   "id": "abc79c4a-b647-400b-8373-355dc37e7266",
   "metadata": {},
   "outputs": [],
   "source": [
    "# ref: medium article\n",
    "def cramers_v(x, y):\n",
    "    confusion_matrix = pd.crosstab(x,y)\n",
    "    chi2 = ss.chi2_contingency(confusion_matrix)[0]\n",
    "    n = confusion_matrix.sum().sum()\n",
    "    phi2 = chi2/n\n",
    "    r,k = confusion_matrix.shape\n",
    "    phi2corr = max(0, phi2-((k-1)*(r-1))/(n-1))\n",
    "    rcorr = r-((r-1)**2)/(n-1)\n",
    "    kcorr = k-((k-1)**2)/(n-1)\n",
    "    return np.sqrt(phi2corr/min((kcorr-1),(rcorr-1)))\n",
    "\n",
    "print(\"Crame's coef: \", cramers_v(df_encoded['male'],df_encoded['TM195']))"
   ]
  },
  {
   "cell_type": "code",
   "execution_count": null,
   "id": "1679361f-ac66-4225-815a-2d22d9919256",
   "metadata": {},
   "outputs": [],
   "source": [
    "from dython.nominal import conditional_entropy\n",
    "from dython.nominal import Counter\n",
    "from dython.nominal import associations"
   ]
  },
  {
   "cell_type": "code",
   "execution_count": null,
   "id": "8daf722c-b2c5-4637-bb74-db1aca20f799",
   "metadata": {},
   "outputs": [],
   "source": [
    "def theils_u(x, y):\n",
    "    s_xy = conditional_entropy(x,y)\n",
    "    x_counter = Counter(x)\n",
    "    total_occurrences = sum(x_counter.values())\n",
    "    p_x = list(map(lambda n: n/total_occurrences, x_counter.values()))\n",
    "    s_x = ss.entropy(p_x)\n",
    "    if s_x == 0:\n",
    "        return 1\n",
    "    else:\n",
    "        return (s_x - s_xy) / s_x\n",
    "\n",
    "print(\"Theils_u coef: \", theils_u(df_encoded['male'],df_encoded['TM195']))"
   ]
  },
  {
   "cell_type": "markdown",
   "id": "aad1042f-be70-4bf6-82df-affa1d76366c",
   "metadata": {},
   "source": [
    "#### Remarks:\n",
    "\n",
    "* male and 798 are most correlated - backs up previous argument\n",
    "* Interestingly 195 and female correlated - argument for marketing it more towards women\n",
    "    * keeping 498 and marketing it for men????"
   ]
  },
  {
   "cell_type": "markdown",
   "id": "f642cf04-cae0-49ac-8031-75b183611f29",
   "metadata": {
    "jp-MarkdownHeadingCollapsed": true
   },
   "source": [
    "### References\n",
    "\n",
    "*Inspiration*\\\n",
    "[Brunet](https://obrunet.github.io/data%20science/cardio/)\n",
    "\n",
    "*External Stats*\\\n",
    "[Office for National Statistics](https://www.ons.gov.uk/peoplepopulationandcommunity/populationandmigration/populationestimates/bulletins/populationestimatesbymaritalstatusandlivingarrangements/2019)\n",
    "\n",
    "*Statistics Help*\\\n",
    "[Pearson's Coefficient](https://www.statisticssolutions.com/free-resources/directory-of-statistical-analyses/pearsons-correlation-coefficient/#:~:text=High%20Degree%3A%20Values%20between%20%C2%B1,of%20zero%20implies%20no%20relationship.)\\\n",
    "[Biserial Coefficient](https://docs.scipy.org/doc/scipy-0.14.0/reference/generated/scipy.stats.pointbiserialr.html#:~:text=The%20point%20biserial%20correlation%20is,1%20imply%20a%20determinative%20relationship.) \\\n",
    "[Dice Similarity](https://www.sciencedirect.com/science/article/pii/S2213158216300560#:~:text=As%20described%20above%2C%20the%20Dice,high%20(0.80%20to%201.00).)\n",
    "\n",
    "*Programming Help*\\\n",
    "[Piechart](https://www.statology.org/seaborn-pie-chart/)\\\n",
    "[Subplots](https://matplotlib.org/stable/api/_as_gen/matplotlib.pyplot.subplots.html)\\\n",
    "[pd_manipulation](https://stackoverflow.com/questions/22233488/pandas-drop-a-level-from-a-multi-level-column-index)\\\n",
    "[Groupedbar](https://www.geeksforgeeks.org/create-a-grouped-bar-plot-in-matplotlib/)\\\n",
    "[Radarplot](https://plotly.com/python/radar-chart/)\\\n",
    "[Masking correlation matrix](https://stackoverflow.com/questions/57414771/how-to-plot-only-the-lower-triangle-of-a-seaborn-heatmap)\\\n",
    "[ColorPalettes](https://seaborn.pydata.org/tutorial/color_palettes.html)\n"
   ]
  }
 ],
 "metadata": {
  "kernelspec": {
   "display_name": "Python 3 (ipykernel)",
   "language": "python",
   "name": "python3"
  },
  "language_info": {
   "codemirror_mode": {
    "name": "ipython",
    "version": 3
   },
   "file_extension": ".py",
   "mimetype": "text/x-python",
   "name": "python",
   "nbconvert_exporter": "python",
   "pygments_lexer": "ipython3",
   "version": "3.12.2"
  }
 },
 "nbformat": 4,
 "nbformat_minor": 5
}
