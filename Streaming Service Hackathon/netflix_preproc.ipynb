{
 "cells": [
  {
   "cell_type": "markdown",
   "id": "a1008596-67ae-4e43-876c-c939e5f80d68",
   "metadata": {},
   "source": [
    "## Netflix Hackathon Preprocessing"
   ]
  },
  {
   "cell_type": "code",
   "execution_count": null,
   "id": "140a9c66-d9f5-4177-8a7d-8375faa05f47",
   "metadata": {},
   "outputs": [],
   "source": [
    "# import zipfile\n",
    "# with zipfile.ZipFile('archive (2).zip', 'r') as zip_ref:\n",
    "#     zip_ref.extractall()"
   ]
  },
  {
   "cell_type": "code",
   "execution_count": null,
   "id": "4094d267-a64c-48ad-b28b-dab4a03720f4",
   "metadata": {},
   "outputs": [],
   "source": [
    "import pandas as pd\n",
    "import numpy as np\n",
    "import matplotlib.pyplot as plt\n",
    "import seaborn as sns"
   ]
  },
  {
   "cell_type": "code",
   "execution_count": null,
   "id": "f053a1d6-83b3-4d77-a6cd-e6c055c2cb8c",
   "metadata": {},
   "outputs": [],
   "source": [
    "df=pd.read_csv('netflix_titles.csv', index_col='show_id')"
   ]
  },
  {
   "cell_type": "code",
   "execution_count": null,
   "id": "5c58b677-a37b-4c91-8b54-07cf917709dd",
   "metadata": {},
   "outputs": [],
   "source": [
    "df[df.title.str.startswith('The Lor')]"
   ]
  },
  {
   "cell_type": "markdown",
   "id": "d259e3e1-b4f1-4f55-9738-cf41c668d39f",
   "metadata": {},
   "source": [
    "## CS directed Cleaning and Preprocessing Steps:\n",
    "\n",
    "1. Convert Data Types:\\\n",
    "· Ensure that the ' date_added' column is in datetime format.\\\n",
    "· Ensure that the ' release_year' column is in the correct numeric format.\n",
    "\n",
    "2. Create Additional Features:\\\n",
    "· Extract month and year from the ' date_added' column for time-based analysis.\n",
    "\n",
    "3. Handle Missing Values:\\\n",
    "· For numeric columns, fill in missing values with the mean or median.\\\n",
    "· For categorical columns 'rating', 'duration' and 'country', fill missing values with the mode or a\\\n",
    "placeholder like \"Unknown\", “Not Rated”\n",
    "\n",
    "4. Clean Categorical Data:\\\n",
    "· Standardize capitalization in categorical columns 'type' and 'rating' for consistency.\n",
    "\n",
    "5. Remove Duplicates:\\\n",
    "· Check for and remove any duplicate entries.\n",
    "\n",
    "6. Handle Outliers (Optional):\\\n",
    "· Investigate and handle any outliers in colum"
   ]
  },
  {
   "cell_type": "markdown",
   "id": "9f03cc83-0ae7-4560-a9d6-d469d51534c9",
   "metadata": {},
   "source": [
    "#### 1&2. dtypes and feature creation\n",
    "\n",
    "**date_added to datetime**\\\n",
    "**release_year to float64**\\\n",
    "**month_added, year_added extracted from date_added**"
   ]
  },
  {
   "cell_type": "code",
   "execution_count": null,
   "id": "839b03f3-d28e-47a4-a41e-eb03080275eb",
   "metadata": {},
   "outputs": [],
   "source": [
    "#converting dtypes and extracting features\n",
    "\n",
    "df['date_added'] = pd.to_datetime(df['date_added'].str.strip())\n",
    "df['release_year'] = df['release_year'].astype('float64') \n",
    "df['month_added'] = df['date_added'].dt.month\n",
    "df['year_added'] = df['date_added'].dt.year"
   ]
  },
  {
   "cell_type": "markdown",
   "id": "54e1aad8-b437-43fa-a308-01ae06136de8",
   "metadata": {},
   "source": [
    "#### 3. Dealing with nulls\n",
    "\n",
    "**Imputed *'Unknown'* to 'director','cast','country'**\\\n",
    "**Moved duration entries in the rating column (4)**\\\n",
    "**Googled missing ratings and filled**\\\n",
    "\n",
    "**Maybe ignore instead???**\n",
    "**Removed ten entries with missing dateadded data**\n",
    "\n",
    "##### still to do: rating and date/month/year added"
   ]
  },
  {
   "cell_type": "code",
   "execution_count": null,
   "id": "43d7f803-075f-43db-b101-eeed84f46883",
   "metadata": {},
   "outputs": [],
   "source": [
    "#Prepping cols in case we wanted a different imputation strategy\n",
    "catcols = [col for col in df.columns if df[col].dtype == 'object']\n",
    "nancols = [col for col in df.columns if df[col].isna().sum() >0]\n",
    "numnancols = [col for col in nancols if col not in catcols]\n",
    "catnancols = [col for col in nancols if col in catcols]\n",
    "print(catnancols, numnancols)"
   ]
  },
  {
   "cell_type": "markdown",
   "id": "eb9394f3-6387-4b4e-bc0a-7df7cc4ed445",
   "metadata": {},
   "source": [
    "***Strategy***\n",
    "\n",
    "##### country director cast \n",
    "    - fill Unknown\n",
    "##### rating\n",
    "    - look up actual values\n",
    "##### Duration \n",
    "    - These were just rating see 4.\n",
    "##### Not sure how to treat date, month year added cols \n",
    "    - look up/ remove"
   ]
  },
  {
   "cell_type": "code",
   "execution_count": null,
   "id": "67fb9033-39da-4735-aff4-9e13e28f24a6",
   "metadata": {},
   "outputs": [],
   "source": [
    "#filling cats with 'Unknown'\n",
    "\n",
    "for col in ['director','cast','country']:\n",
    "    df[col] = df[col].fillna('Unknown')\n",
    "\n",
    "# df"
   ]
  },
  {
   "cell_type": "code",
   "execution_count": null,
   "id": "2079ca4e-32d6-47ff-9629-2539ff60051e",
   "metadata": {},
   "outputs": [],
   "source": [
    "df.isna().sum()"
   ]
  },
  {
   "cell_type": "markdown",
   "id": "bd4f5f72-1e3c-4c1b-a60a-9865939dd2e1",
   "metadata": {},
   "source": [
    "##### date, month and year added \n",
    "    to fix, remove/google\n",
    "##### rating \n",
    "    look up\n",
    "##### duration\n",
    "    see bellow"
   ]
  },
  {
   "cell_type": "markdown",
   "id": "62771452-c11f-4ac2-8169-21e57c4e1de1",
   "metadata": {},
   "source": [
    "##### There are a few rating values in duration:"
   ]
  },
  {
   "cell_type": "code",
   "execution_count": null,
   "id": "67ea57ef-f411-497d-843a-3213d521557a",
   "metadata": {},
   "outputs": [],
   "source": [
    "display(df['rating'][df['rating'] == ('74 min')],\n",
    "df['rating'][df['rating'] == ('84 min')],\n",
    "df['rating'][df['rating'] == ('66 min')])\n"
   ]
  },
  {
   "cell_type": "code",
   "execution_count": null,
   "id": "d74d2d89-f064-454b-ad71-98dfa2d74754",
   "metadata": {},
   "outputs": [],
   "source": [
    "weird_is = df.loc[['s5542','s5795','s5814'],:].index\n",
    "\n",
    "for i in weird_is:\n",
    "    df.loc[i,'duration'] = df.loc[i,'rating']\n",
    "    df.loc[i,'rating'] = np.nan\n",
    "\n",
    "df.loc[weird_is]"
   ]
  },
  {
   "cell_type": "code",
   "execution_count": null,
   "id": "992b7940-ac87-4b6f-a00a-75b635d275cd",
   "metadata": {},
   "outputs": [],
   "source": [
    "#double checking!!\n",
    "# df['rating'].dropna()[df['rating'].dropna().str.endswith('min')]\n",
    "# df['rating'].dropna()[df['rating'].dropna().str.endswith('ons')]"
   ]
  },
  {
   "cell_type": "code",
   "execution_count": null,
   "id": "272026bb-ae08-44f2-b68e-2d29c194bde5",
   "metadata": {},
   "outputs": [],
   "source": [
    "df.isna().sum()"
   ]
  },
  {
   "cell_type": "markdown",
   "id": "b70c95bb-3012-4922-ab38-ca2f15344646",
   "metadata": {},
   "source": [
    "##### Looking up rating values::"
   ]
  },
  {
   "cell_type": "code",
   "execution_count": null,
   "id": "f8412fce-fd22-474c-b0d6-f470377491ca",
   "metadata": {},
   "outputs": [],
   "source": [
    "df.rating.value_counts()"
   ]
  },
  {
   "cell_type": "code",
   "execution_count": null,
   "id": "786b28f6-8758-4644-b843-de3a0cf26795",
   "metadata": {},
   "outputs": [],
   "source": [
    "missing_rating_i = df[df.rating.isna()].index"
   ]
  },
  {
   "cell_type": "markdown",
   "id": "50e54e5f-b6df-4da2-a7de-c1321d0d74e3",
   "metadata": {},
   "source": [
    "**Louis C.K. 2017** TV-MA\\\n",
    "[imdb](https://www.imdb.com/title/tt6736782/)\\\n",
    "**Louis C.K. Hilarious** Not Rated - NR\\\n",
    "[imdb](https://www.imdb.com/title/tt1421373/?ref_=fn_al_tt_1)\\\n",
    "**Louis C.K.: Live at the Comedy Store** TV-MA\\\n",
    "[netflix](https://www.netflix.com/gb/title/80114111)\\\n",
    "**13TH: A Conversation with Oprah Winfrey & Ava** TV-PG\\\n",
    "[netflix](https://www.netflix.com/gb/title/81460481)\\\n",
    "**Gargantia on the Verdurous Planet** TV-14\\\n",
    "[appletv](https://tv.apple.com/us/show/gargantia-on-the-verdurous-planet/umc.cmc.73qfq78p3omafbdadkgwlh7gm)\\\n",
    "**Little Lunch** U :=G\\\n",
    "[netflix](https://www.netflix.com/gb/title/80078037)\\\n",
    "**My Honor Was Loyalty** PG-13\\\n",
    "[imdb](https://www.imdb.com/title/tt4544696/)\n",
    "\n",
    "\n",
    "\n"
   ]
  },
  {
   "cell_type": "code",
   "execution_count": null,
   "id": "1b150b78-f537-4318-87b3-202dc820b85b",
   "metadata": {},
   "outputs": [],
   "source": [
    "df.loc[missing_rating_i,'rating'] = ['TV-MA','NR','TV-MA','TV-PG','TV-14','G','PG-13']"
   ]
  },
  {
   "cell_type": "markdown",
   "id": "c3ca1b3e-57db-49ed-b28d-9ed883272fc2",
   "metadata": {},
   "source": [
    "##### Only missing datetime rows -> keep or delete??\n",
    "##### Let's delete."
   ]
  },
  {
   "cell_type": "code",
   "execution_count": null,
   "id": "e69887a5-9d8f-4335-8680-2d9fad2dca41",
   "metadata": {},
   "outputs": [],
   "source": [
    "df.isna().sum()"
   ]
  },
  {
   "cell_type": "code",
   "execution_count": null,
   "id": "4a12986f-2c9b-46f5-80ae-86af780c0cb4",
   "metadata": {},
   "outputs": [],
   "source": [
    "df.to_csv('netflix_clean.csv')"
   ]
  },
  {
   "cell_type": "code",
   "execution_count": null,
   "id": "971f4fe1-737b-4300-8e92-c761fa5d0a1a",
   "metadata": {},
   "outputs": [],
   "source": [
    "# missing_datetime_i = df[df.date_added.isna()].index\n",
    "# final = df.drop(missing_datetime_i)"
   ]
  },
  {
   "cell_type": "code",
   "execution_count": null,
   "id": "c49f714a-d430-4633-98a2-65719317e7dc",
   "metadata": {},
   "outputs": [],
   "source": [
    "# final.isna().sum()"
   ]
  },
  {
   "cell_type": "code",
   "execution_count": null,
   "id": "5a58d92e-b803-4efe-86fc-1837653af831",
   "metadata": {},
   "outputs": [],
   "source": [
    "# final.to_csv('netflix_clean.csv' )"
   ]
  },
  {
   "cell_type": "markdown",
   "id": "641da349-b916-4d1f-a57c-191c32e9d42e",
   "metadata": {},
   "source": [
    "#### 4. Standardising Format\n",
    "\n",
    "**No Action Taken**\n",
    "\n",
    "##### Double check"
   ]
  },
  {
   "cell_type": "markdown",
   "id": "66bb3db9-07b7-479b-bba6-d9278f879c46",
   "metadata": {
    "jp-MarkdownHeadingCollapsed": true
   },
   "source": [
    "#### 5. Removing Duplicates\n",
    "**No Action Taken**\n",
    "##### Double check"
   ]
  },
  {
   "cell_type": "code",
   "execution_count": null,
   "id": "43f45e41-4c2f-4088-bc2b-7e0f5439e3e2",
   "metadata": {},
   "outputs": [],
   "source": [
    "print(len(df))\n",
    "df.index.nunique()"
   ]
  },
  {
   "cell_type": "code",
   "execution_count": null,
   "id": "ae622304-ee76-4011-b780-5448afb1a984",
   "metadata": {},
   "outputs": [],
   "source": [
    "for col in df.columns:\n",
    "    print(col, df[col].nunique())\n",
    "# df.description.nunique()"
   ]
  },
  {
   "cell_type": "markdown",
   "id": "c4f8bfac-5d41-48fa-8b5e-a6c412a78932",
   "metadata": {},
   "source": [
    "##### Remarks::\n",
    "\n",
    "No duplicates in titles: interesting there are duplicates in description, turns out these are translated films.(Examples bellow)"
   ]
  },
  {
   "cell_type": "code",
   "execution_count": null,
   "id": "7f5d58ec-1a62-427e-a56d-85a53694a336",
   "metadata": {},
   "outputs": [],
   "source": [
    "# df.description.value_counts()[df.description.value_counts() >1]"
   ]
  },
  {
   "cell_type": "code",
   "execution_count": null,
   "id": "ece5f554-12cc-4075-91bb-b3ba0d938d15",
   "metadata": {},
   "outputs": [],
   "source": [
    "# df[df.description == 'A young Han Solo tries to settle an old score with the help of his new buddy Chewbacca, a crew of space smugglers and a cunning old friend.']"
   ]
  },
  {
   "cell_type": "code",
   "execution_count": null,
   "id": "1044398c-d822-464c-a087-9dbd9fd562d5",
   "metadata": {},
   "outputs": [],
   "source": [
    "# df[df.description == 'Paranormal activity at a lush, abandoned property alarms a group eager to redevelop the site, but the eerie events may not be as unearthly as they think.']"
   ]
  },
  {
   "cell_type": "markdown",
   "id": "bd525a71-8fd8-4ddd-8ab4-8a685f25cdf9",
   "metadata": {},
   "source": [
    "##### Don't seem to be duplicates, just different translations"
   ]
  },
  {
   "cell_type": "markdown",
   "id": "e3fc1da6-09a5-43ce-93ed-74b63469bf32",
   "metadata": {
    "jp-MarkdownHeadingCollapsed": true
   },
   "source": [
    "#### 6. Handling outliers\n",
    "\n",
    "**No Action Taken**"
   ]
  },
  {
   "cell_type": "code",
   "execution_count": null,
   "id": "fbd919a8-32dc-42be-9fc2-69a7fae3c3cd",
   "metadata": {},
   "outputs": [],
   "source": [
    "df =final\n",
    "df.isna().sum()"
   ]
  },
  {
   "cell_type": "code",
   "execution_count": null,
   "id": "53a2d2bd-5c75-4b7f-86c2-8f9118733e65",
   "metadata": {},
   "outputs": [],
   "source": [
    "for col in [col for col in df.select_dtypes(exclude='object').columns]:\n",
    "    try:\n",
    "        plt.figure()\n",
    "        sns.boxplot(data=df, y=col)\n",
    "        plt.show()\n",
    "    except:print('n')"
   ]
  },
  {
   "cell_type": "code",
   "execution_count": null,
   "id": "754e1327-6459-4209-a7b7-e5301623e9c7",
   "metadata": {},
   "outputs": [],
   "source": [
    "df.year_added.min()"
   ]
  }
 ],
 "metadata": {
  "kernelspec": {
   "display_name": "Python 3 (ipykernel)",
   "language": "python",
   "name": "python3"
  },
  "language_info": {
   "codemirror_mode": {
    "name": "ipython",
    "version": 3
   },
   "file_extension": ".py",
   "mimetype": "text/x-python",
   "name": "python",
   "nbconvert_exporter": "python",
   "pygments_lexer": "ipython3",
   "version": "3.12.2"
  }
 },
 "nbformat": 4,
 "nbformat_minor": 5
}
