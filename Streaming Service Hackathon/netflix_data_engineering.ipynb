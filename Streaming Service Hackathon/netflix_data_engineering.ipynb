{
 "cells": [
  {
   "cell_type": "markdown",
   "id": "cf14184c-0cbe-4ee0-8f6a-bd2ef501558c",
   "metadata": {},
   "source": [
    "# CS Netflix Dataset Engineering\n",
    "\n",
    "reference:\n",
    "[tutorial!](https://www.samuelliedtke.com/blog/explore-imdb-dataset-jupyter-notebook-and-pandas)"
   ]
  },
  {
   "cell_type": "code",
   "execution_count": 1,
   "id": "25f299a8-0342-4404-8639-f93c24700198",
   "metadata": {},
   "outputs": [],
   "source": [
    "import pandas as pd"
   ]
  },
  {
   "cell_type": "code",
   "execution_count": 2,
   "id": "ff8d64f6-0d24-45e1-b48e-d7598416d06e",
   "metadata": {},
   "outputs": [],
   "source": [
    "#netflix data\n",
    "netflix = pd.read_csv('netflix_clean.csv')"
   ]
  },
  {
   "cell_type": "code",
   "execution_count": 3,
   "id": "e0041771-ad1e-4ed4-bacd-8c261e9cf03d",
   "metadata": {},
   "outputs": [],
   "source": [
    "#all from tutorial page\n",
    "import gzip\n",
    "import shutil\n",
    " \n",
    "with gzip.open('title.basics.tsv.gz', 'rb') as f_in:\n",
    "    with open('title.basics.tsv', 'wb') as f_out:\n",
    "        shutil.copyfileobj(f_in, f_out)\n",
    "with gzip.open('title.ratings.tsv.gz', 'rb') as f_in:\n",
    "    with open('title.ratings.tsv', 'wb') as f_out:\n",
    "        shutil.copyfileobj(f_in, f_out)\n"
   ]
  },
  {
   "cell_type": "code",
   "execution_count": 4,
   "id": "766a13a5-cee9-409b-80b3-0dac9a3c2a2f",
   "metadata": {},
   "outputs": [],
   "source": [
    "#all from tutorial page\n",
    "basics = pd.read_csv('title.basics.tsv', sep='\\t',\n",
    "    low_memory=False, na_values=['\\\\N'])\n",
    "ratings = pd.read_csv('title.ratings.tsv', sep='\\t',\n",
    "    low_memory=False, na_values=['\\\\N'])"
   ]
  },
  {
   "cell_type": "code",
   "execution_count": 5,
   "id": "b7a0cf01-12d6-486c-9ccf-3ef494c03861",
   "metadata": {},
   "outputs": [
    {
     "name": "stdout",
     "output_type": "stream",
     "text": [
      "10759885 1435757\n"
     ]
    }
   ],
   "source": [
    "print(len(basics), len(ratings))"
   ]
  },
  {
   "cell_type": "code",
   "execution_count": 6,
   "id": "d511dadb-d0e3-4490-b7fe-db35b65cd2be",
   "metadata": {},
   "outputs": [
    {
     "data": {
      "text/plain": [
       "titleType\n",
       "tvEpisode       8236256\n",
       "short            993497\n",
       "movie            679989\n",
       "video            291910\n",
       "tvSeries         262560\n",
       "tvMovie          145415\n",
       "tvMiniSeries      54179\n",
       "tvSpecial         47559\n",
       "videoGame         38214\n",
       "tvShort           10305\n",
       "tvPilot               1\n",
       "Name: count, dtype: int64"
      ]
     },
     "execution_count": 6,
     "metadata": {},
     "output_type": "execute_result"
    }
   ],
   "source": [
    "basics.titleType.value_counts()"
   ]
  },
  {
   "cell_type": "code",
   "execution_count": 7,
   "id": "5e9c2924-7831-4d65-9fa4-d3242684a7ea",
   "metadata": {},
   "outputs": [],
   "source": [
    "#combining imdb data, after changing my selection algo didn't need comment\n",
    "imdb = pd.merge(basics, ratings, on='tconst')"
   ]
  },
  {
   "cell_type": "code",
   "execution_count": 8,
   "id": "641d0574-6c86-4a09-9bc5-f821618448fc",
   "metadata": {},
   "outputs": [],
   "source": [
    "#Ensuring no data with different capitalisation is missed\n",
    "imdb.primaryTitle = imdb.primaryTitle.str.lower()\n",
    "netflix.title = netflix.title.str.lower()"
   ]
  },
  {
   "cell_type": "markdown",
   "id": "a7e3dc3c-b543-4bb3-82b1-4b5a8076fba5",
   "metadata": {},
   "source": [
    "# DataSet 1; merging Netflix and IMDB data\n",
    "\n",
    "**6625 entries with most voted duplicates**\n",
    "\n",
    "**4484 entries with clean data**\n",
    "\n",
    "**4490 entries**\n",
    "\n",
    "\n",
    "**Take most rated duplicate after merge**\n",
    "\n",
    "\n",
    "Removed any duplicated items after merge, removed any data missing vote/rating entries."
   ]
  },
  {
   "cell_type": "code",
   "execution_count": 9,
   "id": "1ebf181e-aeb9-4d58-9b73-870ba95619fe",
   "metadata": {},
   "outputs": [],
   "source": [
    "# imdb.titleType.value_counts()"
   ]
  },
  {
   "cell_type": "code",
   "execution_count": 10,
   "id": "37e04264-cd2c-43bf-8ca8-ffae56563ec8",
   "metadata": {},
   "outputs": [],
   "source": [
    "# imdb.head()"
   ]
  },
  {
   "cell_type": "code",
   "execution_count": 11,
   "id": "f651d902-d682-464e-bb38-ed35f8ba9fc2",
   "metadata": {},
   "outputs": [],
   "source": [
    "imdb=imdb[imdb.titleType.isin(['movie','tvSeries','tvMovie','tvMiniSeries'])]"
   ]
  },
  {
   "cell_type": "code",
   "execution_count": 12,
   "id": "ab801a8d-747e-43f2-8ca8-a0ad78dc89ec",
   "metadata": {},
   "outputs": [],
   "source": [
    "#merging netflix and the combined imdb data, couldn't find a better key than title\n",
    "#even making a new key didn't work (title_year) since the year of release was different in netflix and imdb sets for several shows\n",
    "net_imdb = pd.merge(netflix,imdb, left_on='title',right_on='primaryTitle', how='left')"
   ]
  },
  {
   "cell_type": "code",
   "execution_count": 13,
   "id": "02d5d5c7-bd67-40e6-909a-79ab569e2916",
   "metadata": {},
   "outputs": [],
   "source": [
    "#many movie/tv titles are the same in the imdb data: strategy take only most reviewed\n",
    "#getting rid of the duplicate entries\n",
    "duplicates = net_imdb[net_imdb.title.duplicated(keep =False)]\n",
    "\n",
    "dupes_i = duplicates.index\n",
    "net_imdb = net_imdb.drop(dupes_i)\n",
    "\n",
    "#writing the most reviewed data from duplicates\n",
    "max_votes_dupes = duplicates.groupby('title')['numVotes'].max()\n",
    "\n",
    "duplicates['title_votes'] = duplicates.title.astype(str) + '_' + duplicates.numVotes.astype(str)\n",
    "\n",
    "key = max_votes_dupes.index + '_' + max_votes_dupes.astype(str)\n",
    "duplicates\n",
    "duplicates=duplicates[duplicates.title_votes.isin(key)]\n",
    "\n",
    "net_imdb = pd.concat([net_imdb, duplicates], axis=0)\n",
    "# net_imdb"
   ]
  },
  {
   "cell_type": "code",
   "execution_count": 14,
   "id": "809aceac-123e-43a2-954d-9b6f100b4b6a",
   "metadata": {},
   "outputs": [],
   "source": [
    "net_imdb.reset_index(drop=True, inplace=True)\n",
    "net_imdb.drop(['tconst',\t'titleType',\t'primaryTitle',\t'originalTitle',\t'isAdult',\t'startYear',\t'endYear',\t'runtimeMinutes',\t'genres','title_votes'],axis=1, inplace=True)"
   ]
  },
  {
   "cell_type": "code",
   "execution_count": 15,
   "id": "7aa8117a-adb4-4d1d-b56a-1993ae39e10e",
   "metadata": {},
   "outputs": [],
   "source": [
    "net_imdb = net_imdb[~net_imdb.numVotes.isna()]"
   ]
  },
  {
   "cell_type": "code",
   "execution_count": 16,
   "id": "d0094670-14d3-4aac-9229-1d91dabaced5",
   "metadata": {},
   "outputs": [],
   "source": [
    "# code for just removing all dupes\n",
    "# dupes_i = duplicates.index\n",
    "# net_imdb = net_imdb.drop(dupes_i)\n",
    "# net_imdb = net_imdb.reset_index(drop=True)"
   ]
  },
  {
   "cell_type": "code",
   "execution_count": 17,
   "id": "8fa9c3dc-4f95-4be6-876d-5edef98ca65d",
   "metadata": {},
   "outputs": [],
   "source": [
    "# display(net_imdb.head(0), imdb.head(0), netflix.head(0))"
   ]
  },
  {
   "cell_type": "code",
   "execution_count": 18,
   "id": "615b73f8-4b1e-41be-8a5a-9704f4e8d83e",
   "metadata": {},
   "outputs": [
    {
     "data": {
      "text/plain": [
       "6892"
      ]
     },
     "execution_count": 18,
     "metadata": {},
     "output_type": "execute_result"
    }
   ],
   "source": [
    "len(net_imdb)"
   ]
  },
  {
   "cell_type": "code",
   "execution_count": 19,
   "id": "6e284240-d054-4c0a-88cc-8912c4e79d82",
   "metadata": {},
   "outputs": [],
   "source": [
    "net_imdb.rename({'averageRating':'imdb_score','numVotes':'imdb_votes'},axis=1, inplace = True)"
   ]
  },
  {
   "cell_type": "code",
   "execution_count": 20,
   "id": "5e709bd5-84ef-4466-9a35-4697fdc9aee9",
   "metadata": {},
   "outputs": [],
   "source": [
    "net_imdb.to_csv('netflix_imdb.csv', index=False)"
   ]
  },
  {
   "cell_type": "markdown",
   "id": "21e49059-dbd2-4e37-833e-f0d83e6cf909",
   "metadata": {},
   "source": [
    "### _______________________________________________________________________________________\n",
    "### Bellow used to try and maximise no. entries\n",
    "### _______________________________________________________________________________________\n",
    "\n",
    "However!\n",
    "It assumes the netflix item is the most voted imdb item; not necessarily the case: stick to other datasets."
   ]
  },
  {
   "cell_type": "code",
   "execution_count": 21,
   "id": "be7f98e4-1754-45ef-88ba-e313ae809f3a",
   "metadata": {},
   "outputs": [],
   "source": [
    "# #take the most voted for items from duplicate list\n",
    "# groups = duplicates.groupby('title')['numVotes'].max()\n",
    "# groups = groups.reset_index()\n",
    "\n",
    "# #create a unique key for finding the most voted items in our merged df\n",
    "# groups['title_votes'] = groups.title.astype(str) +'_'+ groups.numVotes.astype(str)\n",
    "# og_imdb['title_votes'] = og_imdb.title.astype(str) + '_' + og_imdb.numVotes.astype(str)\n",
    "# uniques = og_imdb[og_imdb.title_votes.isin(groups.title_votes)]"
   ]
  },
  {
   "cell_type": "code",
   "execution_count": 22,
   "id": "ba40417c-7635-4b37-9735-cd19c213744c",
   "metadata": {},
   "outputs": [],
   "source": [
    "# #get rid of all duplicates and concatenate this data with the uniques.\n",
    "# dupes_i = duplicates.index\n",
    "# og_imdb_duped=og_imdb.drop(dupes_i, axis=0)\n",
    "# final = pd.concat([og_imdb_duped, uniques],axis=0)"
   ]
  },
  {
   "cell_type": "code",
   "execution_count": 23,
   "id": "226b0484-1302-4847-9737-559ee03cf254",
   "metadata": {},
   "outputs": [],
   "source": [
    "# final.info()"
   ]
  },
  {
   "cell_type": "markdown",
   "id": "781c12b2-163b-40a2-b09f-a72713fa3166",
   "metadata": {},
   "source": [
    "## DataSet 2: IMDB top 10k most popular media"
   ]
  },
  {
   "cell_type": "code",
   "execution_count": 24,
   "id": "169c3aa3-a055-4f09-a1c1-807bbc65e106",
   "metadata": {},
   "outputs": [],
   "source": [
    "imdb_10k_votes = imdb.sort_values('numVotes', ascending=False)[:100000]"
   ]
  },
  {
   "cell_type": "code",
   "execution_count": 25,
   "id": "012863cf-e691-44b3-ada6-c4adc7879a45",
   "metadata": {},
   "outputs": [
    {
     "data": {
      "text/plain": [
       "100000"
      ]
     },
     "execution_count": 25,
     "metadata": {},
     "output_type": "execute_result"
    }
   ],
   "source": [
    "len(imdb_10k_votes)"
   ]
  },
  {
   "cell_type": "code",
   "execution_count": 26,
   "id": "33a37188-7dd7-4b8f-afb0-03fbcff4fa31",
   "metadata": {},
   "outputs": [],
   "source": [
    "imdb_10k_votes.to_csv('imdb_10k_votes.csv', index=False)"
   ]
  },
  {
   "cell_type": "markdown",
   "id": "e599ab92-664a-48fb-b0c9-7ce0f1f14e99",
   "metadata": {},
   "source": [
    "## Dataset 3: Merging netflix and kaggle imdb data\n",
    "**Only 3785 entries**"
   ]
  },
  {
   "cell_type": "code",
   "execution_count": 27,
   "id": "f259bf50-dcb3-4a41-be03-2b438ba941dc",
   "metadata": {},
   "outputs": [],
   "source": [
    "netflix = pd.read_csv('netflix_clean.csv')"
   ]
  },
  {
   "cell_type": "code",
   "execution_count": 28,
   "id": "b69e92ec-23dd-4760-b167-453f56df2211",
   "metadata": {},
   "outputs": [],
   "source": [
    "imdb_kaggle = pd.read_csv('Netflix Tv Shows and Movies.csv', index_col = 'index')"
   ]
  },
  {
   "cell_type": "code",
   "execution_count": 29,
   "id": "107dfe19-cf88-4fcc-aa2c-a8646aa755b7",
   "metadata": {},
   "outputs": [],
   "source": [
    "imdb_kaggle.drop(['id','type','description','release_year','age_certification','runtime', 'imdb_id'], axis=1, inplace=True)"
   ]
  },
  {
   "cell_type": "code",
   "execution_count": 30,
   "id": "0691b681-83b1-49d8-834e-8d8d06b75f8e",
   "metadata": {},
   "outputs": [],
   "source": [
    "# display(netflix.head(), imdb_kaggle.head())"
   ]
  },
  {
   "cell_type": "code",
   "execution_count": 31,
   "id": "59171652-61c0-4ed7-8ac6-1ec42890ad55",
   "metadata": {},
   "outputs": [],
   "source": [
    "net_ikag = pd.merge(netflix, imdb_kaggle, on='title', how='left')"
   ]
  },
  {
   "cell_type": "code",
   "execution_count": 32,
   "id": "9eb4accc-44c2-465b-8ff4-d943f0735ce4",
   "metadata": {},
   "outputs": [],
   "source": [
    "net_ikag = net_ikag[~net_ikag.imdb_votes.isna()].reset_index(drop=True)"
   ]
  },
  {
   "cell_type": "code",
   "execution_count": 33,
   "id": "0961b2fd-13b7-413f-8a6b-b99cae18395c",
   "metadata": {},
   "outputs": [
    {
     "data": {
      "text/plain": [
       "3785"
      ]
     },
     "execution_count": 33,
     "metadata": {},
     "output_type": "execute_result"
    }
   ],
   "source": [
    "len(net_ikag)"
   ]
  },
  {
   "cell_type": "code",
   "execution_count": 34,
   "id": "141b8db7-ac54-4f5d-ac8c-5a603e5fd117",
   "metadata": {},
   "outputs": [
    {
     "data": {
      "text/html": [
       "<div>\n",
       "<style scoped>\n",
       "    .dataframe tbody tr th:only-of-type {\n",
       "        vertical-align: middle;\n",
       "    }\n",
       "\n",
       "    .dataframe tbody tr th {\n",
       "        vertical-align: top;\n",
       "    }\n",
       "\n",
       "    .dataframe thead th {\n",
       "        text-align: right;\n",
       "    }\n",
       "</style>\n",
       "<table border=\"1\" class=\"dataframe\">\n",
       "  <thead>\n",
       "    <tr style=\"text-align: right;\">\n",
       "      <th></th>\n",
       "      <th>show_id</th>\n",
       "      <th>type</th>\n",
       "      <th>title</th>\n",
       "      <th>director</th>\n",
       "      <th>cast</th>\n",
       "      <th>country</th>\n",
       "      <th>date_added</th>\n",
       "      <th>release_year</th>\n",
       "      <th>rating</th>\n",
       "      <th>duration</th>\n",
       "      <th>listed_in</th>\n",
       "      <th>description</th>\n",
       "      <th>month_added</th>\n",
       "      <th>year_added</th>\n",
       "      <th>imdb_score</th>\n",
       "      <th>imdb_votes</th>\n",
       "    </tr>\n",
       "  </thead>\n",
       "  <tbody>\n",
       "    <tr>\n",
       "      <th>0</th>\n",
       "      <td>s1</td>\n",
       "      <td>Movie</td>\n",
       "      <td>Dick Johnson Is Dead</td>\n",
       "      <td>Kirsten Johnson</td>\n",
       "      <td>Unknown</td>\n",
       "      <td>United States</td>\n",
       "      <td>2021-09-25</td>\n",
       "      <td>2020.0</td>\n",
       "      <td>PG-13</td>\n",
       "      <td>90 min</td>\n",
       "      <td>Documentaries</td>\n",
       "      <td>As her father nears the end of his life, filmm...</td>\n",
       "      <td>9.0</td>\n",
       "      <td>2021.0</td>\n",
       "      <td>7.4</td>\n",
       "      <td>6390.0</td>\n",
       "    </tr>\n",
       "  </tbody>\n",
       "</table>\n",
       "</div>"
      ],
      "text/plain": [
       "  show_id   type                 title         director     cast  \\\n",
       "0      s1  Movie  Dick Johnson Is Dead  Kirsten Johnson  Unknown   \n",
       "\n",
       "         country  date_added  release_year rating duration      listed_in  \\\n",
       "0  United States  2021-09-25        2020.0  PG-13   90 min  Documentaries   \n",
       "\n",
       "                                         description  month_added  year_added  \\\n",
       "0  As her father nears the end of his life, filmm...          9.0      2021.0   \n",
       "\n",
       "   imdb_score  imdb_votes  \n",
       "0         7.4      6390.0  "
      ]
     },
     "execution_count": 34,
     "metadata": {},
     "output_type": "execute_result"
    }
   ],
   "source": [
    "net_ikag.head(1)"
   ]
  },
  {
   "cell_type": "code",
   "execution_count": 35,
   "id": "718af188-057e-4059-a52f-c1e108794fac",
   "metadata": {},
   "outputs": [],
   "source": [
    "net_ikag.to_csv('netflix_imdb_kaggle.csv', index=False)"
   ]
  },
  {
   "cell_type": "markdown",
   "id": "36053063-e7ac-459e-bc28-7d43e7813f2d",
   "metadata": {},
   "source": [
    "# Dataset 4: combining 1 and 3??\n",
    "\n",
    "**7079 with taking most voted duplicates**\n",
    "\n",
    "**6007 entries with clean data**\n",
    "\n",
    "**6013 entries**\n",
    "\n",
    "This is a great work-around, just worth double checking a couple entries from ikag to make sure the kaggle set is good."
   ]
  },
  {
   "cell_type": "code",
   "execution_count": 36,
   "id": "bfc784e3-f234-4648-802a-690ac190b562",
   "metadata": {},
   "outputs": [
    {
     "data": {
      "text/plain": [
       "Index(['show_id', 'type', 'title', 'director', 'cast', 'country', 'date_added',\n",
       "       'release_year', 'rating', 'duration', 'listed_in', 'description',\n",
       "       'month_added', 'year_added', 'imdb_score', 'imdb_votes'],\n",
       "      dtype='object')"
      ]
     },
     "execution_count": 36,
     "metadata": {},
     "output_type": "execute_result"
    }
   ],
   "source": [
    "net_ikag.columns"
   ]
  },
  {
   "cell_type": "code",
   "execution_count": 37,
   "id": "dc07e401-e8fa-4128-b730-dcc1acdd4bc9",
   "metadata": {},
   "outputs": [],
   "source": [
    "net_ikag.title = net_ikag.title.str.lower()\n",
    "net_imdb.title = net_imdb.title.str.lower()"
   ]
  },
  {
   "cell_type": "code",
   "execution_count": 38,
   "id": "d462f1c2-5ff8-4265-8c2a-cd3efa113aee",
   "metadata": {},
   "outputs": [],
   "source": [
    "net_icomb = pd.concat([net_imdb, net_ikag],axis=0, ignore_index=True)"
   ]
  },
  {
   "cell_type": "code",
   "execution_count": 39,
   "id": "977e5daa-d5aa-4e6d-88ed-70dfcf5b3f53",
   "metadata": {},
   "outputs": [],
   "source": [
    "dup_index = net_icomb[net_icomb.title.duplicated()].index\n",
    "net_icomb.drop(dup_index, axis=0, inplace =True)"
   ]
  },
  {
   "cell_type": "code",
   "execution_count": 40,
   "id": "dcd754f7-7697-4236-bf38-192d28fe7071",
   "metadata": {},
   "outputs": [],
   "source": [
    "net_icomb['id'] = net_icomb.show_id.str.strip('s').astype(int)\n",
    "net_icomb.sort_values('id')\n",
    "net_icomb.reset_index(drop=True, inplace =True)\n",
    "net_icomb.drop('id',axis=1, inplace = True)"
   ]
  },
  {
   "cell_type": "code",
   "execution_count": 41,
   "id": "3681669a-8b09-46b3-97b2-298ffcf9f583",
   "metadata": {},
   "outputs": [
    {
     "data": {
      "text/plain": [
       "7298"
      ]
     },
     "execution_count": 41,
     "metadata": {},
     "output_type": "execute_result"
    }
   ],
   "source": [
    "len(net_icomb)"
   ]
  },
  {
   "cell_type": "code",
   "execution_count": 42,
   "id": "e4a12a49-6df8-4cd6-8608-56e802405d1d",
   "metadata": {},
   "outputs": [],
   "source": [
    "net_icomb.to_csv('netflix_both.csv', index=False)"
   ]
  },
  {
   "cell_type": "code",
   "execution_count": 43,
   "id": "40e542e0-de10-4c96-bea9-a1eaeb25b132",
   "metadata": {},
   "outputs": [
    {
     "data": {
      "text/html": [
       "<div>\n",
       "<style scoped>\n",
       "    .dataframe tbody tr th:only-of-type {\n",
       "        vertical-align: middle;\n",
       "    }\n",
       "\n",
       "    .dataframe tbody tr th {\n",
       "        vertical-align: top;\n",
       "    }\n",
       "\n",
       "    .dataframe thead th {\n",
       "        text-align: right;\n",
       "    }\n",
       "</style>\n",
       "<table border=\"1\" class=\"dataframe\">\n",
       "  <thead>\n",
       "    <tr style=\"text-align: right;\">\n",
       "      <th></th>\n",
       "      <th>show_id</th>\n",
       "      <th>type</th>\n",
       "      <th>title</th>\n",
       "      <th>director</th>\n",
       "      <th>cast</th>\n",
       "      <th>country</th>\n",
       "      <th>date_added</th>\n",
       "      <th>release_year</th>\n",
       "      <th>rating</th>\n",
       "      <th>duration</th>\n",
       "      <th>listed_in</th>\n",
       "      <th>description</th>\n",
       "      <th>month_added</th>\n",
       "      <th>year_added</th>\n",
       "      <th>imdb_score</th>\n",
       "      <th>imdb_votes</th>\n",
       "    </tr>\n",
       "  </thead>\n",
       "  <tbody>\n",
       "    <tr>\n",
       "      <th>787</th>\n",
       "      <td>s1390</td>\n",
       "      <td>Movie</td>\n",
       "      <td>friendsgiving</td>\n",
       "      <td>Nicol Paone</td>\n",
       "      <td>Malin Akerman, Kat Dennings, Aisha Tyler, Jane...</td>\n",
       "      <td>United States</td>\n",
       "      <td>2021-01-21</td>\n",
       "      <td>2020.0</td>\n",
       "      <td>R</td>\n",
       "      <td>95 min</td>\n",
       "      <td>Comedies</td>\n",
       "      <td>A quiet holiday dinner among friends turns int...</td>\n",
       "      <td>1.0</td>\n",
       "      <td>2021.0</td>\n",
       "      <td>4.5</td>\n",
       "      <td>3760.0</td>\n",
       "    </tr>\n",
       "    <tr>\n",
       "      <th>2411</th>\n",
       "      <td>s4201</td>\n",
       "      <td>TV Show</td>\n",
       "      <td>friends from college</td>\n",
       "      <td>Unknown</td>\n",
       "      <td>Keegan-Michael Key, Cobie Smulders, Billy Eich...</td>\n",
       "      <td>United States</td>\n",
       "      <td>2019-01-11</td>\n",
       "      <td>2019.0</td>\n",
       "      <td>TV-MA</td>\n",
       "      <td>2 Seasons</td>\n",
       "      <td>Romantic TV Shows, TV Comedies</td>\n",
       "      <td>Twenty years after graduation, a tight-knit gr...</td>\n",
       "      <td>1.0</td>\n",
       "      <td>2019.0</td>\n",
       "      <td>6.9</td>\n",
       "      <td>23414.0</td>\n",
       "    </tr>\n",
       "    <tr>\n",
       "      <th>5549</th>\n",
       "      <td>s2724</td>\n",
       "      <td>Movie</td>\n",
       "      <td>friendship</td>\n",
       "      <td>Raj Khosla</td>\n",
       "      <td>Amitabh Bachchan, Shatrughan Sinha, Zeenat Ama...</td>\n",
       "      <td>India</td>\n",
       "      <td>2020-04-01</td>\n",
       "      <td>1980.0</td>\n",
       "      <td>TV-14</td>\n",
       "      <td>161 min</td>\n",
       "      <td>Action &amp; Adventure, Dramas, International Movies</td>\n",
       "      <td>Best friends since childhood, a righteous cop ...</td>\n",
       "      <td>4.0</td>\n",
       "      <td>2020.0</td>\n",
       "      <td>6.4</td>\n",
       "      <td>1108.0</td>\n",
       "    </tr>\n",
       "    <tr>\n",
       "      <th>6416</th>\n",
       "      <td>s6806</td>\n",
       "      <td>Movie</td>\n",
       "      <td>friend request</td>\n",
       "      <td>Simon Verhoeven</td>\n",
       "      <td>Alycia Debnam-Carey, William Moseley, Connor P...</td>\n",
       "      <td>Germany</td>\n",
       "      <td>2018-04-18</td>\n",
       "      <td>2016.0</td>\n",
       "      <td>R</td>\n",
       "      <td>92 min</td>\n",
       "      <td>Horror Movies, International Movies</td>\n",
       "      <td>A popular college student's love of social med...</td>\n",
       "      <td>4.0</td>\n",
       "      <td>2018.0</td>\n",
       "      <td>5.2</td>\n",
       "      <td>27831.0</td>\n",
       "    </tr>\n",
       "    <tr>\n",
       "      <th>6417</th>\n",
       "      <td>s6807</td>\n",
       "      <td>TV Show</td>\n",
       "      <td>friends</td>\n",
       "      <td>Unknown</td>\n",
       "      <td>Jennifer Aniston, Courteney Cox, Lisa Kudrow, ...</td>\n",
       "      <td>United States</td>\n",
       "      <td>NaN</td>\n",
       "      <td>2003.0</td>\n",
       "      <td>TV-14</td>\n",
       "      <td>10 Seasons</td>\n",
       "      <td>Classic &amp; Cult TV, TV Comedies</td>\n",
       "      <td>This hit sitcom follows the merry misadventure...</td>\n",
       "      <td>NaN</td>\n",
       "      <td>NaN</td>\n",
       "      <td>8.9</td>\n",
       "      <td>1089437.0</td>\n",
       "    </tr>\n",
       "  </tbody>\n",
       "</table>\n",
       "</div>"
      ],
      "text/plain": [
       "     show_id     type                 title         director  \\\n",
       "787    s1390    Movie         friendsgiving      Nicol Paone   \n",
       "2411   s4201  TV Show  friends from college          Unknown   \n",
       "5549   s2724    Movie            friendship       Raj Khosla   \n",
       "6416   s6806    Movie        friend request  Simon Verhoeven   \n",
       "6417   s6807  TV Show               friends          Unknown   \n",
       "\n",
       "                                                   cast        country  \\\n",
       "787   Malin Akerman, Kat Dennings, Aisha Tyler, Jane...  United States   \n",
       "2411  Keegan-Michael Key, Cobie Smulders, Billy Eich...  United States   \n",
       "5549  Amitabh Bachchan, Shatrughan Sinha, Zeenat Ama...          India   \n",
       "6416  Alycia Debnam-Carey, William Moseley, Connor P...        Germany   \n",
       "6417  Jennifer Aniston, Courteney Cox, Lisa Kudrow, ...  United States   \n",
       "\n",
       "      date_added  release_year rating    duration  \\\n",
       "787   2021-01-21        2020.0      R      95 min   \n",
       "2411  2019-01-11        2019.0  TV-MA   2 Seasons   \n",
       "5549  2020-04-01        1980.0  TV-14     161 min   \n",
       "6416  2018-04-18        2016.0      R      92 min   \n",
       "6417         NaN        2003.0  TV-14  10 Seasons   \n",
       "\n",
       "                                             listed_in  \\\n",
       "787                                           Comedies   \n",
       "2411                    Romantic TV Shows, TV Comedies   \n",
       "5549  Action & Adventure, Dramas, International Movies   \n",
       "6416               Horror Movies, International Movies   \n",
       "6417                    Classic & Cult TV, TV Comedies   \n",
       "\n",
       "                                            description  month_added  \\\n",
       "787   A quiet holiday dinner among friends turns int...          1.0   \n",
       "2411  Twenty years after graduation, a tight-knit gr...          1.0   \n",
       "5549  Best friends since childhood, a righteous cop ...          4.0   \n",
       "6416  A popular college student's love of social med...          4.0   \n",
       "6417  This hit sitcom follows the merry misadventure...          NaN   \n",
       "\n",
       "      year_added  imdb_score  imdb_votes  \n",
       "787       2021.0         4.5      3760.0  \n",
       "2411      2019.0         6.9     23414.0  \n",
       "5549      2020.0         6.4      1108.0  \n",
       "6416      2018.0         5.2     27831.0  \n",
       "6417         NaN         8.9   1089437.0  "
      ]
     },
     "execution_count": 43,
     "metadata": {},
     "output_type": "execute_result"
    }
   ],
   "source": [
    "net_icomb[net_icomb.title.str.startswith('frien')]"
   ]
  },
  {
   "cell_type": "markdown",
   "id": "c4fa85a1-0d61-4445-b70b-d56ce32b0ffb",
   "metadata": {},
   "source": [
    "## DataSet 5: entries in the top 10k imdb not in netflix data"
   ]
  },
  {
   "cell_type": "code",
   "execution_count": 44,
   "id": "46f28d2b-cf3c-4fb6-bfb8-06321e3db55e",
   "metadata": {},
   "outputs": [],
   "source": [
    "imdb_not_netflix = imdb_10k_votes[~imdb_10k_votes.primaryTitle.isin(netflix.title.str.lower())]\n",
    "imdb_not_netflix.reset_index(drop=True, inplace=True)\n",
    "imdb_not_netflix.to_csv('imdb_not_netflix.csv', index=False)"
   ]
  },
  {
   "cell_type": "code",
   "execution_count": 45,
   "id": "c9d9e039-d970-4b50-b6db-c2f073cc452a",
   "metadata": {},
   "outputs": [
    {
     "data": {
      "text/html": [
       "<div>\n",
       "<style scoped>\n",
       "    .dataframe tbody tr th:only-of-type {\n",
       "        vertical-align: middle;\n",
       "    }\n",
       "\n",
       "    .dataframe tbody tr th {\n",
       "        vertical-align: top;\n",
       "    }\n",
       "\n",
       "    .dataframe thead th {\n",
       "        text-align: right;\n",
       "    }\n",
       "</style>\n",
       "<table border=\"1\" class=\"dataframe\">\n",
       "  <thead>\n",
       "    <tr style=\"text-align: right;\">\n",
       "      <th></th>\n",
       "      <th>show_id</th>\n",
       "      <th>type</th>\n",
       "      <th>title</th>\n",
       "      <th>director</th>\n",
       "      <th>cast</th>\n",
       "      <th>country</th>\n",
       "      <th>date_added</th>\n",
       "      <th>release_year</th>\n",
       "      <th>rating</th>\n",
       "      <th>duration</th>\n",
       "      <th>listed_in</th>\n",
       "      <th>description</th>\n",
       "      <th>month_added</th>\n",
       "      <th>year_added</th>\n",
       "    </tr>\n",
       "  </thead>\n",
       "  <tbody>\n",
       "    <tr>\n",
       "      <th>0</th>\n",
       "      <td>s1</td>\n",
       "      <td>Movie</td>\n",
       "      <td>Dick Johnson Is Dead</td>\n",
       "      <td>Kirsten Johnson</td>\n",
       "      <td>Unknown</td>\n",
       "      <td>United States</td>\n",
       "      <td>2021-09-25</td>\n",
       "      <td>2020.0</td>\n",
       "      <td>PG-13</td>\n",
       "      <td>90 min</td>\n",
       "      <td>Documentaries</td>\n",
       "      <td>As her father nears the end of his life, filmm...</td>\n",
       "      <td>9.0</td>\n",
       "      <td>2021.0</td>\n",
       "    </tr>\n",
       "    <tr>\n",
       "      <th>1</th>\n",
       "      <td>s2</td>\n",
       "      <td>TV Show</td>\n",
       "      <td>Blood &amp; Water</td>\n",
       "      <td>Unknown</td>\n",
       "      <td>Ama Qamata, Khosi Ngema, Gail Mabalane, Thaban...</td>\n",
       "      <td>South Africa</td>\n",
       "      <td>2021-09-24</td>\n",
       "      <td>2021.0</td>\n",
       "      <td>TV-MA</td>\n",
       "      <td>2 Seasons</td>\n",
       "      <td>International TV Shows, TV Dramas, TV Mysteries</td>\n",
       "      <td>After crossing paths at a party, a Cape Town t...</td>\n",
       "      <td>9.0</td>\n",
       "      <td>2021.0</td>\n",
       "    </tr>\n",
       "    <tr>\n",
       "      <th>2</th>\n",
       "      <td>s3</td>\n",
       "      <td>TV Show</td>\n",
       "      <td>Ganglands</td>\n",
       "      <td>Julien Leclercq</td>\n",
       "      <td>Sami Bouajila, Tracy Gotoas, Samuel Jouy, Nabi...</td>\n",
       "      <td>Unknown</td>\n",
       "      <td>2021-09-24</td>\n",
       "      <td>2021.0</td>\n",
       "      <td>TV-MA</td>\n",
       "      <td>1 Season</td>\n",
       "      <td>Crime TV Shows, International TV Shows, TV Act...</td>\n",
       "      <td>To protect his family from a powerful drug lor...</td>\n",
       "      <td>9.0</td>\n",
       "      <td>2021.0</td>\n",
       "    </tr>\n",
       "    <tr>\n",
       "      <th>3</th>\n",
       "      <td>s4</td>\n",
       "      <td>TV Show</td>\n",
       "      <td>Jailbirds New Orleans</td>\n",
       "      <td>Unknown</td>\n",
       "      <td>Unknown</td>\n",
       "      <td>Unknown</td>\n",
       "      <td>2021-09-24</td>\n",
       "      <td>2021.0</td>\n",
       "      <td>TV-MA</td>\n",
       "      <td>1 Season</td>\n",
       "      <td>Docuseries, Reality TV</td>\n",
       "      <td>Feuds, flirtations and toilet talk go down amo...</td>\n",
       "      <td>9.0</td>\n",
       "      <td>2021.0</td>\n",
       "    </tr>\n",
       "    <tr>\n",
       "      <th>4</th>\n",
       "      <td>s5</td>\n",
       "      <td>TV Show</td>\n",
       "      <td>Kota Factory</td>\n",
       "      <td>Unknown</td>\n",
       "      <td>Mayur More, Jitendra Kumar, Ranjan Raj, Alam K...</td>\n",
       "      <td>India</td>\n",
       "      <td>2021-09-24</td>\n",
       "      <td>2021.0</td>\n",
       "      <td>TV-MA</td>\n",
       "      <td>2 Seasons</td>\n",
       "      <td>International TV Shows, Romantic TV Shows, TV ...</td>\n",
       "      <td>In a city of coaching centers known to train I...</td>\n",
       "      <td>9.0</td>\n",
       "      <td>2021.0</td>\n",
       "    </tr>\n",
       "    <tr>\n",
       "      <th>...</th>\n",
       "      <td>...</td>\n",
       "      <td>...</td>\n",
       "      <td>...</td>\n",
       "      <td>...</td>\n",
       "      <td>...</td>\n",
       "      <td>...</td>\n",
       "      <td>...</td>\n",
       "      <td>...</td>\n",
       "      <td>...</td>\n",
       "      <td>...</td>\n",
       "      <td>...</td>\n",
       "      <td>...</td>\n",
       "      <td>...</td>\n",
       "      <td>...</td>\n",
       "    </tr>\n",
       "    <tr>\n",
       "      <th>8802</th>\n",
       "      <td>s8803</td>\n",
       "      <td>Movie</td>\n",
       "      <td>Zodiac</td>\n",
       "      <td>David Fincher</td>\n",
       "      <td>Mark Ruffalo, Jake Gyllenhaal, Robert Downey J...</td>\n",
       "      <td>United States</td>\n",
       "      <td>2019-11-20</td>\n",
       "      <td>2007.0</td>\n",
       "      <td>R</td>\n",
       "      <td>158 min</td>\n",
       "      <td>Cult Movies, Dramas, Thrillers</td>\n",
       "      <td>A political cartoonist, a crime reporter and a...</td>\n",
       "      <td>11.0</td>\n",
       "      <td>2019.0</td>\n",
       "    </tr>\n",
       "    <tr>\n",
       "      <th>8803</th>\n",
       "      <td>s8804</td>\n",
       "      <td>TV Show</td>\n",
       "      <td>Zombie Dumb</td>\n",
       "      <td>Unknown</td>\n",
       "      <td>Unknown</td>\n",
       "      <td>Unknown</td>\n",
       "      <td>2019-07-01</td>\n",
       "      <td>2018.0</td>\n",
       "      <td>TV-Y7</td>\n",
       "      <td>2 Seasons</td>\n",
       "      <td>Kids' TV, Korean TV Shows, TV Comedies</td>\n",
       "      <td>While living alone in a spooky town, a young g...</td>\n",
       "      <td>7.0</td>\n",
       "      <td>2019.0</td>\n",
       "    </tr>\n",
       "    <tr>\n",
       "      <th>8804</th>\n",
       "      <td>s8805</td>\n",
       "      <td>Movie</td>\n",
       "      <td>Zombieland</td>\n",
       "      <td>Ruben Fleischer</td>\n",
       "      <td>Jesse Eisenberg, Woody Harrelson, Emma Stone, ...</td>\n",
       "      <td>United States</td>\n",
       "      <td>2019-11-01</td>\n",
       "      <td>2009.0</td>\n",
       "      <td>R</td>\n",
       "      <td>88 min</td>\n",
       "      <td>Comedies, Horror Movies</td>\n",
       "      <td>Looking to survive in a world taken over by zo...</td>\n",
       "      <td>11.0</td>\n",
       "      <td>2019.0</td>\n",
       "    </tr>\n",
       "    <tr>\n",
       "      <th>8805</th>\n",
       "      <td>s8806</td>\n",
       "      <td>Movie</td>\n",
       "      <td>Zoom</td>\n",
       "      <td>Peter Hewitt</td>\n",
       "      <td>Tim Allen, Courteney Cox, Chevy Chase, Kate Ma...</td>\n",
       "      <td>United States</td>\n",
       "      <td>2020-01-11</td>\n",
       "      <td>2006.0</td>\n",
       "      <td>PG</td>\n",
       "      <td>88 min</td>\n",
       "      <td>Children &amp; Family Movies, Comedies</td>\n",
       "      <td>Dragged from civilian life, a former superhero...</td>\n",
       "      <td>1.0</td>\n",
       "      <td>2020.0</td>\n",
       "    </tr>\n",
       "    <tr>\n",
       "      <th>8806</th>\n",
       "      <td>s8807</td>\n",
       "      <td>Movie</td>\n",
       "      <td>Zubaan</td>\n",
       "      <td>Mozez Singh</td>\n",
       "      <td>Vicky Kaushal, Sarah-Jane Dias, Raaghav Chanan...</td>\n",
       "      <td>India</td>\n",
       "      <td>2019-03-02</td>\n",
       "      <td>2015.0</td>\n",
       "      <td>TV-14</td>\n",
       "      <td>111 min</td>\n",
       "      <td>Dramas, International Movies, Music &amp; Musicals</td>\n",
       "      <td>A scrappy but poor boy worms his way into a ty...</td>\n",
       "      <td>3.0</td>\n",
       "      <td>2019.0</td>\n",
       "    </tr>\n",
       "  </tbody>\n",
       "</table>\n",
       "<p>8807 rows × 14 columns</p>\n",
       "</div>"
      ],
      "text/plain": [
       "     show_id     type                  title         director  \\\n",
       "0         s1    Movie   Dick Johnson Is Dead  Kirsten Johnson   \n",
       "1         s2  TV Show          Blood & Water          Unknown   \n",
       "2         s3  TV Show              Ganglands  Julien Leclercq   \n",
       "3         s4  TV Show  Jailbirds New Orleans          Unknown   \n",
       "4         s5  TV Show           Kota Factory          Unknown   \n",
       "...      ...      ...                    ...              ...   \n",
       "8802   s8803    Movie                 Zodiac    David Fincher   \n",
       "8803   s8804  TV Show            Zombie Dumb          Unknown   \n",
       "8804   s8805    Movie             Zombieland  Ruben Fleischer   \n",
       "8805   s8806    Movie                   Zoom     Peter Hewitt   \n",
       "8806   s8807    Movie                 Zubaan      Mozez Singh   \n",
       "\n",
       "                                                   cast        country  \\\n",
       "0                                               Unknown  United States   \n",
       "1     Ama Qamata, Khosi Ngema, Gail Mabalane, Thaban...   South Africa   \n",
       "2     Sami Bouajila, Tracy Gotoas, Samuel Jouy, Nabi...        Unknown   \n",
       "3                                               Unknown        Unknown   \n",
       "4     Mayur More, Jitendra Kumar, Ranjan Raj, Alam K...          India   \n",
       "...                                                 ...            ...   \n",
       "8802  Mark Ruffalo, Jake Gyllenhaal, Robert Downey J...  United States   \n",
       "8803                                            Unknown        Unknown   \n",
       "8804  Jesse Eisenberg, Woody Harrelson, Emma Stone, ...  United States   \n",
       "8805  Tim Allen, Courteney Cox, Chevy Chase, Kate Ma...  United States   \n",
       "8806  Vicky Kaushal, Sarah-Jane Dias, Raaghav Chanan...          India   \n",
       "\n",
       "      date_added  release_year rating   duration  \\\n",
       "0     2021-09-25        2020.0  PG-13     90 min   \n",
       "1     2021-09-24        2021.0  TV-MA  2 Seasons   \n",
       "2     2021-09-24        2021.0  TV-MA   1 Season   \n",
       "3     2021-09-24        2021.0  TV-MA   1 Season   \n",
       "4     2021-09-24        2021.0  TV-MA  2 Seasons   \n",
       "...          ...           ...    ...        ...   \n",
       "8802  2019-11-20        2007.0      R    158 min   \n",
       "8803  2019-07-01        2018.0  TV-Y7  2 Seasons   \n",
       "8804  2019-11-01        2009.0      R     88 min   \n",
       "8805  2020-01-11        2006.0     PG     88 min   \n",
       "8806  2019-03-02        2015.0  TV-14    111 min   \n",
       "\n",
       "                                              listed_in  \\\n",
       "0                                         Documentaries   \n",
       "1       International TV Shows, TV Dramas, TV Mysteries   \n",
       "2     Crime TV Shows, International TV Shows, TV Act...   \n",
       "3                                Docuseries, Reality TV   \n",
       "4     International TV Shows, Romantic TV Shows, TV ...   \n",
       "...                                                 ...   \n",
       "8802                     Cult Movies, Dramas, Thrillers   \n",
       "8803             Kids' TV, Korean TV Shows, TV Comedies   \n",
       "8804                            Comedies, Horror Movies   \n",
       "8805                 Children & Family Movies, Comedies   \n",
       "8806     Dramas, International Movies, Music & Musicals   \n",
       "\n",
       "                                            description  month_added  \\\n",
       "0     As her father nears the end of his life, filmm...          9.0   \n",
       "1     After crossing paths at a party, a Cape Town t...          9.0   \n",
       "2     To protect his family from a powerful drug lor...          9.0   \n",
       "3     Feuds, flirtations and toilet talk go down amo...          9.0   \n",
       "4     In a city of coaching centers known to train I...          9.0   \n",
       "...                                                 ...          ...   \n",
       "8802  A political cartoonist, a crime reporter and a...         11.0   \n",
       "8803  While living alone in a spooky town, a young g...          7.0   \n",
       "8804  Looking to survive in a world taken over by zo...         11.0   \n",
       "8805  Dragged from civilian life, a former superhero...          1.0   \n",
       "8806  A scrappy but poor boy worms his way into a ty...          3.0   \n",
       "\n",
       "      year_added  \n",
       "0         2021.0  \n",
       "1         2021.0  \n",
       "2         2021.0  \n",
       "3         2021.0  \n",
       "4         2021.0  \n",
       "...          ...  \n",
       "8802      2019.0  \n",
       "8803      2019.0  \n",
       "8804      2019.0  \n",
       "8805      2020.0  \n",
       "8806      2019.0  \n",
       "\n",
       "[8807 rows x 14 columns]"
      ]
     },
     "execution_count": 45,
     "metadata": {},
     "output_type": "execute_result"
    }
   ],
   "source": [
    "netflix"
   ]
  },
  {
   "cell_type": "code",
   "execution_count": 46,
   "id": "6a9649e8-85c7-470c-a507-390603ef0523",
   "metadata": {},
   "outputs": [
    {
     "data": {
      "text/html": [
       "<div>\n",
       "<style scoped>\n",
       "    .dataframe tbody tr th:only-of-type {\n",
       "        vertical-align: middle;\n",
       "    }\n",
       "\n",
       "    .dataframe tbody tr th {\n",
       "        vertical-align: top;\n",
       "    }\n",
       "\n",
       "    .dataframe thead th {\n",
       "        text-align: right;\n",
       "    }\n",
       "</style>\n",
       "<table border=\"1\" class=\"dataframe\">\n",
       "  <thead>\n",
       "    <tr style=\"text-align: right;\">\n",
       "      <th></th>\n",
       "      <th>tconst</th>\n",
       "      <th>titleType</th>\n",
       "      <th>primaryTitle</th>\n",
       "      <th>originalTitle</th>\n",
       "      <th>isAdult</th>\n",
       "      <th>startYear</th>\n",
       "      <th>endYear</th>\n",
       "      <th>runtimeMinutes</th>\n",
       "      <th>genres</th>\n",
       "      <th>averageRating</th>\n",
       "      <th>numVotes</th>\n",
       "    </tr>\n",
       "  </thead>\n",
       "  <tbody>\n",
       "    <tr>\n",
       "      <th>83560</th>\n",
       "      <td>tt0111161</td>\n",
       "      <td>movie</td>\n",
       "      <td>the shawshank redemption</td>\n",
       "      <td>The Shawshank Redemption</td>\n",
       "      <td>0.0</td>\n",
       "      <td>1994.0</td>\n",
       "      <td>NaN</td>\n",
       "      <td>142</td>\n",
       "      <td>Drama</td>\n",
       "      <td>9.3</td>\n",
       "      <td>2892098</td>\n",
       "    </tr>\n",
       "    <tr>\n",
       "      <th>254824</th>\n",
       "      <td>tt0468569</td>\n",
       "      <td>movie</td>\n",
       "      <td>the dark knight</td>\n",
       "      <td>The Dark Knight</td>\n",
       "      <td>0.0</td>\n",
       "      <td>2008.0</td>\n",
       "      <td>NaN</td>\n",
       "      <td>152</td>\n",
       "      <td>Action,Crime,Drama</td>\n",
       "      <td>9.0</td>\n",
       "      <td>2873906</td>\n",
       "    </tr>\n",
       "    <tr>\n",
       "      <th>662834</th>\n",
       "      <td>tt1375666</td>\n",
       "      <td>movie</td>\n",
       "      <td>inception</td>\n",
       "      <td>Inception</td>\n",
       "      <td>0.0</td>\n",
       "      <td>2010.0</td>\n",
       "      <td>NaN</td>\n",
       "      <td>148</td>\n",
       "      <td>Action,Adventure,Sci-Fi</td>\n",
       "      <td>8.8</td>\n",
       "      <td>2553824</td>\n",
       "    </tr>\n",
       "    <tr>\n",
       "      <th>100258</th>\n",
       "      <td>tt0137523</td>\n",
       "      <td>movie</td>\n",
       "      <td>fight club</td>\n",
       "      <td>Fight Club</td>\n",
       "      <td>0.0</td>\n",
       "      <td>1999.0</td>\n",
       "      <td>NaN</td>\n",
       "      <td>139</td>\n",
       "      <td>Drama</td>\n",
       "      <td>8.8</td>\n",
       "      <td>2326975</td>\n",
       "    </tr>\n",
       "    <tr>\n",
       "      <th>444076</th>\n",
       "      <td>tt0944947</td>\n",
       "      <td>tvSeries</td>\n",
       "      <td>game of thrones</td>\n",
       "      <td>Game of Thrones</td>\n",
       "      <td>0.0</td>\n",
       "      <td>2011.0</td>\n",
       "      <td>2019.0</td>\n",
       "      <td>60</td>\n",
       "      <td>Action,Adventure,Drama</td>\n",
       "      <td>9.2</td>\n",
       "      <td>2287976</td>\n",
       "    </tr>\n",
       "    <tr>\n",
       "      <th>...</th>\n",
       "      <td>...</td>\n",
       "      <td>...</td>\n",
       "      <td>...</td>\n",
       "      <td>...</td>\n",
       "      <td>...</td>\n",
       "      <td>...</td>\n",
       "      <td>...</td>\n",
       "      <td>...</td>\n",
       "      <td>...</td>\n",
       "      <td>...</td>\n",
       "      <td>...</td>\n",
       "    </tr>\n",
       "    <tr>\n",
       "      <th>1013732</th>\n",
       "      <td>tt2796792</td>\n",
       "      <td>tvMovie</td>\n",
       "      <td>a way back home</td>\n",
       "      <td>Shuffleton's Barbershop</td>\n",
       "      <td>0.0</td>\n",
       "      <td>2013.0</td>\n",
       "      <td>NaN</td>\n",
       "      <td>84</td>\n",
       "      <td>Drama</td>\n",
       "      <td>5.9</td>\n",
       "      <td>339</td>\n",
       "    </tr>\n",
       "    <tr>\n",
       "      <th>1270689</th>\n",
       "      <td>tt6236404</td>\n",
       "      <td>movie</td>\n",
       "      <td>kadavul irukaan kumaru</td>\n",
       "      <td>Kadavul Irukaan Kumaru</td>\n",
       "      <td>0.0</td>\n",
       "      <td>2016.0</td>\n",
       "      <td>NaN</td>\n",
       "      <td>138</td>\n",
       "      <td>Comedy</td>\n",
       "      <td>3.1</td>\n",
       "      <td>339</td>\n",
       "    </tr>\n",
       "    <tr>\n",
       "      <th>63745</th>\n",
       "      <td>tt0087888</td>\n",
       "      <td>movie</td>\n",
       "      <td>partir, revenir</td>\n",
       "      <td>Partir, revenir</td>\n",
       "      <td>0.0</td>\n",
       "      <td>1985.0</td>\n",
       "      <td>NaN</td>\n",
       "      <td>114</td>\n",
       "      <td>Drama,War</td>\n",
       "      <td>6.3</td>\n",
       "      <td>339</td>\n",
       "    </tr>\n",
       "    <tr>\n",
       "      <th>36912</th>\n",
       "      <td>tt0056995</td>\n",
       "      <td>movie</td>\n",
       "      <td>to bed or not to bed</td>\n",
       "      <td>Il diavolo</td>\n",
       "      <td>0.0</td>\n",
       "      <td>1963.0</td>\n",
       "      <td>NaN</td>\n",
       "      <td>103</td>\n",
       "      <td>Comedy,Fantasy</td>\n",
       "      <td>6.3</td>\n",
       "      <td>339</td>\n",
       "    </tr>\n",
       "    <tr>\n",
       "      <th>506377</th>\n",
       "      <td>tt10814148</td>\n",
       "      <td>tvMiniSeries</td>\n",
       "      <td>room camp</td>\n",
       "      <td>Heya Camp</td>\n",
       "      <td>0.0</td>\n",
       "      <td>2020.0</td>\n",
       "      <td>NaN</td>\n",
       "      <td>3</td>\n",
       "      <td>Adventure,Animation,Comedy</td>\n",
       "      <td>6.9</td>\n",
       "      <td>339</td>\n",
       "    </tr>\n",
       "  </tbody>\n",
       "</table>\n",
       "<p>100000 rows × 11 columns</p>\n",
       "</div>"
      ],
      "text/plain": [
       "             tconst     titleType              primaryTitle  \\\n",
       "83560     tt0111161         movie  the shawshank redemption   \n",
       "254824    tt0468569         movie           the dark knight   \n",
       "662834    tt1375666         movie                 inception   \n",
       "100258    tt0137523         movie                fight club   \n",
       "444076    tt0944947      tvSeries           game of thrones   \n",
       "...             ...           ...                       ...   \n",
       "1013732   tt2796792       tvMovie           a way back home   \n",
       "1270689   tt6236404         movie    kadavul irukaan kumaru   \n",
       "63745     tt0087888         movie           partir, revenir   \n",
       "36912     tt0056995         movie      to bed or not to bed   \n",
       "506377   tt10814148  tvMiniSeries                 room camp   \n",
       "\n",
       "                    originalTitle  isAdult  startYear  endYear runtimeMinutes  \\\n",
       "83560    The Shawshank Redemption      0.0     1994.0      NaN            142   \n",
       "254824            The Dark Knight      0.0     2008.0      NaN            152   \n",
       "662834                  Inception      0.0     2010.0      NaN            148   \n",
       "100258                 Fight Club      0.0     1999.0      NaN            139   \n",
       "444076            Game of Thrones      0.0     2011.0   2019.0             60   \n",
       "...                           ...      ...        ...      ...            ...   \n",
       "1013732   Shuffleton's Barbershop      0.0     2013.0      NaN             84   \n",
       "1270689    Kadavul Irukaan Kumaru      0.0     2016.0      NaN            138   \n",
       "63745             Partir, revenir      0.0     1985.0      NaN            114   \n",
       "36912                  Il diavolo      0.0     1963.0      NaN            103   \n",
       "506377                  Heya Camp      0.0     2020.0      NaN              3   \n",
       "\n",
       "                             genres  averageRating  numVotes  \n",
       "83560                         Drama            9.3   2892098  \n",
       "254824           Action,Crime,Drama            9.0   2873906  \n",
       "662834      Action,Adventure,Sci-Fi            8.8   2553824  \n",
       "100258                        Drama            8.8   2326975  \n",
       "444076       Action,Adventure,Drama            9.2   2287976  \n",
       "...                             ...            ...       ...  \n",
       "1013732                       Drama            5.9       339  \n",
       "1270689                      Comedy            3.1       339  \n",
       "63745                     Drama,War            6.3       339  \n",
       "36912                Comedy,Fantasy            6.3       339  \n",
       "506377   Adventure,Animation,Comedy            6.9       339  \n",
       "\n",
       "[100000 rows x 11 columns]"
      ]
     },
     "execution_count": 46,
     "metadata": {},
     "output_type": "execute_result"
    }
   ],
   "source": [
    "imdb_10k_votes"
   ]
  }
 ],
 "metadata": {
  "kernelspec": {
   "display_name": "Python 3 (ipykernel)",
   "language": "python",
   "name": "python3"
  },
  "language_info": {
   "codemirror_mode": {
    "name": "ipython",
    "version": 3
   },
   "file_extension": ".py",
   "mimetype": "text/x-python",
   "name": "python",
   "nbconvert_exporter": "python",
   "pygments_lexer": "ipython3",
   "version": "3.12.2"
  }
 },
 "nbformat": 4,
 "nbformat_minor": 5
}
